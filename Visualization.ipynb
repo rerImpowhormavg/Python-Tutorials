{
 "cells": [
  {
   "cell_type": "markdown",
   "metadata": {},
   "source": [
    "# Visualization\n",
    "\n",
    "In this boot camp we're going to learn how to:\n",
    "- Read in data tables (the easy way!)\n",
    "- Select different samples from the data set\n",
    "- Make figures to visualize the data"
   ]
  },
  {
   "cell_type": "markdown",
   "metadata": {},
   "source": [
    "# Reading in data\n",
    "Often, you will be given data in the form of an ASCII table.  This table will have multiple rows that indicate a star, or a galaxy, or a particle in a simulation, and the columns indicate different properties for the object such as its ID, brightness, mass, or distance.  Before we can select different samples of objects to study, we need to read in this data.  There are many ways to do this in Python: numpy, pandas, and astropy are commonly used packages.\n",
    "\n",
    "- Pandas: http://pandas.pydata.org/pandas-docs/stable/10min.html\n",
    "- Astropy: http://docs.astropy.org/en/stable/io/ascii/\n",
    "\n",
    "Let's first import these packages. Again, use CTRL-ENTER to execute each cell."
   ]
  },
  {
   "cell_type": "code",
   "execution_count": null,
   "metadata": {
    "collapsed": false
   },
   "outputs": [],
   "source": [
    "import numpy as np\n",
    "import pandas as pd\n",
    "from astropy.io import ascii"
   ]
  },
  {
   "cell_type": "markdown",
   "metadata": {},
   "source": [
    "Let's start with an example of reading in data into a Pandas `DataFrame`. Just as a `numpy` array is like a python list with extra super-powers, you can think of a Pandas `DataFrame` as an augmented `numpy` array with extra member functions to help you work with the data.\n",
    "\n",
    "The data we will be using in this notebook should have been downloaded with the rest of the package into a \"data\" folder, so we use this for the file's location (e.g., your `Downloads` folder) in the next command. If the fine isn't there, you'll get an error."
   ]
  },
  {
   "cell_type": "code",
   "execution_count": null,
   "metadata": {
    "collapsed": false
   },
   "outputs": [],
   "source": [
    "data1=pd.read_csv('data/SNIa_DM.dat',delim_whitespace=True, skiprows=4)"
   ]
  },
  {
   "cell_type": "markdown",
   "metadata": {},
   "source": [
    "Note that we had to tell Pandas to skip the first 4 rows (comments) and use white-space (spaces and tabs) to delimit the columns.\n",
    "\n",
    "We can now look at the properties of data1.  Such as its dimensions:"
   ]
  },
  {
   "cell_type": "code",
   "execution_count": null,
   "metadata": {
    "collapsed": false
   },
   "outputs": [],
   "source": [
    "print(data1.shape)"
   ]
  },
  {
   "cell_type": "markdown",
   "metadata": {},
   "source": [
    "There are 281 rows and 5 columns.  What are the names of the columns?"
   ]
  },
  {
   "cell_type": "code",
   "execution_count": null,
   "metadata": {
    "collapsed": false
   },
   "outputs": [],
   "source": [
    "print(data1.columns.values)"
   ]
  },
  {
   "cell_type": "markdown",
   "metadata": {},
   "source": [
    "And what if we want to peak at all of the properties of the first 5 SN? Pandas `DataFrames` act just like arrays in this respect. Use the `numpy` array slicing you learned in our last tutorial to print out only the first 5 rows of `data1`."
   ]
  },
  {
   "cell_type": "code",
   "execution_count": null,
   "metadata": {
    "collapsed": false
   },
   "outputs": [],
   "source": [
    "print(data1[0:5])"
   ]
  },
  {
   "cell_type": "markdown",
   "metadata": {},
   "source": [
    "We can also just select specific columns by using the names you found above."
   ]
  },
  {
   "cell_type": "code",
   "execution_count": null,
   "metadata": {
    "collapsed": false
   },
   "outputs": [],
   "source": [
    "print(data1['DM'][0:5])"
   ]
  },
  {
   "cell_type": "markdown",
   "metadata": {},
   "source": [
    "Now see if you can print out just the first 5 rows of the `'DM'` column. Try other combinations of column names and row slices.\n",
    "\n",
    "Note that the index is always shown here.  If we just want the raw data in the form of a numpy array, we just do the following:"
   ]
  },
  {
   "cell_type": "code",
   "execution_count": null,
   "metadata": {
    "collapsed": false
   },
   "outputs": [],
   "source": [
    "print(data1['DM'].values)"
   ]
  },
  {
   "cell_type": "markdown",
   "metadata": {},
   "source": [
    "Next, we do a similar exercise reading in the data into an astropy Table:"
   ]
  },
  {
   "cell_type": "code",
   "execution_count": null,
   "metadata": {
    "collapsed": false
   },
   "outputs": [],
   "source": [
    "data2=ascii.read('data/SNIa_DM.dat')\n",
    "\n",
    "print(data2.colnames)\n",
    "print(data2[:5])\n",
    "print(data2['DM'][:5])"
   ]
  },
  {
   "cell_type": "markdown",
   "metadata": {},
   "source": [
    "Note that the `astropy.ascii` package requires fewer arguments (it's a little smarter about comments and delimiters), but `astropy` tables have a bit less functionality. Luckily, the `astropy` developers recognise that Pandas is pretty awesome, so you can convert an Astropy `Tables` object to a Pandas `DataFrame` object! (You can also convert Pandas DFs to Astropy Tables)"
   ]
  },
  {
   "cell_type": "code",
   "execution_count": null,
   "metadata": {
    "collapsed": false
   },
   "outputs": [],
   "source": [
    "data3=data2.to_pandas()\n",
    "print(data3[:5])"
   ]
  },
  {
   "cell_type": "markdown",
   "metadata": {},
   "source": [
    "## Writing data\n",
    "Writing data in Pandas is just as simple as reading it in:"
   ]
  },
  {
   "cell_type": "code",
   "execution_count": null,
   "metadata": {
    "collapsed": false
   },
   "outputs": [],
   "source": [
    "data3.to_csv('data/output.dat',index=False,sep=' ')\n",
    "# the 'index' keyword gives you the option of also printing the Pandas index\n",
    "# the 'sep' keyword specifies the delimiter between columns"
   ]
  },
  {
   "cell_type": "markdown",
   "metadata": {},
   "source": [
    "# Selecting Data\n",
    "Most of the time you will be dealing with subsets of your data set, e.g., galaxies at a certain redshift, stars at a particular distance or brightness, you want to get rid of outliers, etc.  We therefore need to select the desired sample using conditionals.  We'll use a Pandas DataFrame as an example. Here, we create a `pandas` column called `ix` that contains True/False values for each row in `data1` based on conditions:  True if redshift is less than 0.02 and the survey is from CSP (equals 1), False otherwise. This new array, if used as an index, will pick out only those rows that are True. This is often referred to as creating a 'mask'."
   ]
  },
  {
   "cell_type": "code",
   "execution_count": null,
   "metadata": {
    "collapsed": false
   },
   "outputs": [],
   "source": []
  },
  {
   "cell_type": "markdown",
   "metadata": {},
   "source": [
    "We could also have accomplished the above using numpy's `where` function:"
   ]
  },
  {
   "cell_type": "code",
   "execution_count": null,
   "metadata": {
    "collapsed": false
   },
   "outputs": [],
   "source": [
    "ix=np.where((data1['zcmb']<0.02) & (data1['survey']==1))[0]\n",
    "\n",
    "# Note the different way of subscripting the Pandas DataFrame here\n",
    "print(data1.loc[ix])"
   ]
  },
  {
   "cell_type": "markdown",
   "metadata": {},
   "source": [
    "# Plotting\n",
    "The most popular plotting package in Python is `matplotlib` but there are several others one might want to explore.  Here we will show you how to make basic plots in matplotlib.  The references below are useful:\n",
    "\n",
    "- http://matplotlib.org/gallery.html\n",
    "- http://matplotlib.org/api/pyplot_api.html\n",
    "\n",
    "First, let's invoke an iPython magic command (i.e., %) so that the plots that are made will show up in this notebook."
   ]
  },
  {
   "cell_type": "code",
   "execution_count": null,
   "metadata": {
    "collapsed": false
   },
   "outputs": [],
   "source": [
    "%matplotlib inline"
   ]
  },
  {
   "cell_type": "markdown",
   "metadata": {},
   "source": [
    "`pyplot` is the main plotting function in `matplotlib`, it is commonly imported on its own as `plt`."
   ]
  },
  {
   "cell_type": "code",
   "execution_count": null,
   "metadata": {
    "collapsed": true
   },
   "outputs": [],
   "source": [
    "import matplotlib.pyplot as plt"
   ]
  },
  {
   "cell_type": "markdown",
   "metadata": {},
   "source": [
    "Now let's make some fake data to play with and plot. This is just a suggestion, try your own functions, maybe even some random numbers!"
   ]
  },
  {
   "cell_type": "code",
   "execution_count": null,
   "metadata": {
    "collapsed": false
   },
   "outputs": [],
   "source": [
    "x=np.arange(10.)\n",
    "y=x**2"
   ]
  },
  {
   "cell_type": "markdown",
   "metadata": {},
   "source": [
    "Armed with this data, this is now probably the quickest way to make a figure:"
   ]
  },
  {
   "cell_type": "code",
   "execution_count": null,
   "metadata": {
    "collapsed": false
   },
   "outputs": [],
   "source": [
    "plt.plot(x,y,'bo')\n",
    "\n",
    "# The string 'bo' above indicates that the points will be blue(b) circles(o)"
   ]
  },
  {
   "cell_type": "markdown",
   "metadata": {},
   "source": [
    "Note that `matplotlib` does a lot of things automatically for you, like setting the limits on the axes.  As well as the interval between major tick marks.  These are all things that you can adjust manually with more code.\n",
    "\n",
    "Below is the long form to getting the same symbols as above.  By including more code, you can start to tinker around with different aspects of the plot. Many of matplotlib's optional arguments have a long and short form (e.g., you can specify `linestyle='-'` or the shorter `ls='-'`. Try different linestyles: '--', '-.'. Try different symbols: 's', 'd', '*'."
   ]
  },
  {
   "cell_type": "code",
   "execution_count": null,
   "metadata": {
    "collapsed": false
   },
   "outputs": [],
   "source": [
    "plt.plot(x,y,color='blue',marker='o',ms=6,ls='None')"
   ]
  },
  {
   "cell_type": "markdown",
   "metadata": {},
   "source": [
    "Yet another way to make the same plot, using the `scatter` function:"
   ]
  },
  {
   "cell_type": "code",
   "execution_count": null,
   "metadata": {
    "collapsed": false
   },
   "outputs": [],
   "source": [
    "plt.scatter(x,y,s=10*np.sqrt(y),c=np.log10(x),edgecolors='black')"
   ]
  },
  {
   "cell_type": "markdown",
   "metadata": {},
   "source": [
    "The above examples are the quickest, easiest ways to produce a figure in `matplotlib`.  However, you'll find that including more lines of code will make things easier down the road as it will provide for more functionality.  Below, we invoke the `subplots` function, which returns `figure` and `axis` objects.  We can also play around with the colors, symbols, and line styles. This way of using `matplotlib` is more *pythonic*. The previous way was more akin to using `MATLAB` and it was the developer's intention to make it more intuitive. Most examples use the *pythonic* methods."
   ]
  },
  {
   "cell_type": "code",
   "execution_count": null,
   "metadata": {
    "collapsed": false
   },
   "outputs": [],
   "source": [
    "fig, ax = plt.subplots()\n",
    "\n",
    "# We then use ax to do our plotting\n",
    "ax.plot(x,y,color='royalblue',marker='*',ms=15,ls='None')\n",
    "ax.plot(x,y,color='red',ls='-',lw=2,alpha=0.5)\n",
    "plt.invert_yaxis()"
   ]
  },
  {
   "cell_type": "markdown",
   "metadata": {},
   "source": [
    "So this produces the same kind of plot as above, but now we can use `ax` to play with the axes:"
   ]
  },
  {
   "cell_type": "code",
   "execution_count": null,
   "metadata": {
    "collapsed": false
   },
   "outputs": [],
   "source": [
    "fig, ax = plt.subplots()\n",
    "ax.set_ylim((0,200))           # set limits on y-axis\n",
    "ax.set_xlabel('x',fontsize=15) # set label for x-axis\n",
    "ax.set_ylabel('y',fontsize=15) # set label for y-axis\n",
    "ax.plot(x,y,color='mediumseagreen',marker='s',ms=15,ls='None')\n",
    "ax.plot(x,y,color='darkorange',ls='--',lw=2)"
   ]
  },
  {
   "cell_type": "markdown",
   "metadata": {},
   "source": [
    "Often, you'll want an axis to be on a logarithmic scale:"
   ]
  },
  {
   "cell_type": "code",
   "execution_count": null,
   "metadata": {
    "collapsed": false
   },
   "outputs": [],
   "source": [
    "fig, ax = plt.subplots()\n",
    "\n",
    "ax.set_yscale('log') # set y-axis to be in log\n",
    "\n",
    "ax.set_xlabel('x',fontsize=15)\n",
    "ax.set_ylabel('y',fontsize=15)\n",
    "ax.plot(x,y,color='gold',mec='mediumvioletred',mew=2,marker='p',ms=25,ls='None')\n",
    "ax.plot(x,y,color='mediumvioletred',ls='-.',lw=2)"
   ]
  },
  {
   "cell_type": "markdown",
   "metadata": {},
   "source": [
    "## Multiple figures\n",
    "\n",
    "Sometimes you'll want two figures side-by-side, or a grid of 3x3, etc, etc..."
   ]
  },
  {
   "cell_type": "code",
   "execution_count": null,
   "metadata": {
    "collapsed": false
   },
   "outputs": [],
   "source": [
    "# two figures, side by side:\n",
    "fig, axarr = plt.subplots(1,2,figsize=(10,5))\n",
    "\n",
    "# axarr is an array of axis objects, with each element representing one subplot\n",
    "\n",
    "# first subplot\n",
    "ax=axarr[0]\n",
    "ax.plot(x,y,color='blue',marker='s',ms=15,ls='None')\n",
    "\n",
    "# second subplot\n",
    "ax=axarr[1]\n",
    "ax.plot(x,y,color='red',marker='*',ms=15,ls='None')\n",
    "\n",
    "# change title on first subplot\n",
    "ax=axarr[0]\n",
    "ax.set_xlabel('x',fontsize=16)"
   ]
  },
  {
   "cell_type": "markdown",
   "metadata": {},
   "source": [
    "Using subplots, which returns an axis array, is useful for going back and forth between different figures.  Note how we can go back to `axarr[0]` at the end and change the label on the x axis.\n",
    "\n",
    "If you have a bunch of images or the same type of figure for multiple objects, it helps to make a giant grid of subplots.  And rather than manually declaring a new subplot each time, it helps to automate the process with `for` loop(s)."
   ]
  },
  {
   "cell_type": "code",
   "execution_count": null,
   "metadata": {
    "collapsed": false
   },
   "outputs": [],
   "source": [
    "nrow=2\n",
    "ncol=3\n",
    "fig, axarr = plt.subplots(nrow,ncol,figsize=(9,6))\n",
    "\n",
    "for ii in range(nrow):\n",
    "    for jj in range(ncol):\n",
    "        ax=axarr[ii,jj]\n",
    "        if ii==nrow-1: ax.set_yscale('log')\n",
    "        ax.set_xlabel('x')\n",
    "        ax.set_ylabel('y')\n",
    "        ax.plot(x,y,color='blue',marker='s',ms=5,ls='None')\n",
    "        ax.plot(x,y,color='red',ls='--',lw=2)\n",
    "fig.tight_layout()"
   ]
  },
  {
   "cell_type": "markdown",
   "metadata": {},
   "source": [
    "`subplots` has many useful features, like the the `sharex` and `sharey` keywords, which allow you to declare that the axes for each subplot have the same scale.  Invoking `subplots_adjust` can then optionally allow you to squish the subplots together. "
   ]
  },
  {
   "cell_type": "code",
   "execution_count": null,
   "metadata": {
    "collapsed": false
   },
   "outputs": [],
   "source": [
    "nrow=2\n",
    "ncol=3\n",
    "fig, axarr = plt.subplots(nrow,ncol,figsize=(9,6),sharex=True,sharey=True)\n",
    "plt.subplots_adjust(hspace=0,wspace=0)\n",
    "\n",
    "for ii in range(nrow):\n",
    "    for jj in range(ncol):\n",
    "        ax=axarr[ii,jj]\n",
    "        if ii==nrow-1:\n",
    "            ax.set_xlabel('x',fontsize=16)\n",
    "        if jj==0:\n",
    "            ax.set_ylabel('y',fontsize=16)\n",
    "        ax.plot(x,y,color='blue',marker='s',ms=5,ls='None')\n",
    "        ax.plot(x,y,color='red',ls='--',lw=2)\n",
    "        ax.tick_params(axis='both',direction='inout', top=True, right=True)"
   ]
  },
  {
   "cell_type": "markdown",
   "metadata": {},
   "source": [
    "# Labeling\n",
    "Legends, text labels, Latex"
   ]
  },
  {
   "cell_type": "code",
   "execution_count": null,
   "metadata": {
    "collapsed": false
   },
   "outputs": [],
   "source": [
    "x=np.arange(10)+1.\n",
    "y1=x**2\n",
    "y2=np.sqrt(x)\n",
    "\n",
    "fig, ax = plt.subplots()\n",
    "ax.set_yscale('log')\n",
    "# The `label` keyword below is used to specify the label for the particular data set\n",
    "ax.plot(x,y1,color='blue',mec='orange',mew=2,marker='*',ms=20,ls='None',label='$y=x^2$')\n",
    "ax.plot(x,y2,color='red',marker='s',ms=15,ls='None',label='$y=\\sqrt{x}$')\n",
    "ax.text(6,10,'$y=x^{n}$',fontsize=24)\n",
    "ax.legend(loc='upper left',fontsize=16,numpoints=1)"
   ]
  },
  {
   "cell_type": "markdown",
   "metadata": {},
   "source": [
    "## Other useful types of figures: \n",
    "- Error bars: We're scientists! Almost every data point you put on a figure should have an error bar.\n",
    "- Histograms: useful for looking at distribution of values for a particular variable\n",
    "- Images: e.g., cutouts of stars, galaxies, nebulae, etc.\n",
    "- Many others that we don't have time to cover here!\n",
    "\n",
    "Error bars:"
   ]
  },
  {
   "cell_type": "code",
   "execution_count": null,
   "metadata": {
    "collapsed": false
   },
   "outputs": [],
   "source": [
    "# first, generate some fake data\n",
    "x=np.arange(10)+1.\n",
    "y=x**2\n",
    "\n",
    "xerr=np.zeros(10)+0.5 # fixed error in x\n",
    "yerr=np.sqrt(y) # Poisson error in y\n",
    "\n",
    "plt.errorbar(x,y,xerr=xerr,yerr=yerr,marker='o',ls='None')"
   ]
  },
  {
   "cell_type": "markdown",
   "metadata": {},
   "source": [
    "Histogram of Gaussians:"
   ]
  },
  {
   "cell_type": "code",
   "execution_count": null,
   "metadata": {
    "collapsed": false
   },
   "outputs": [],
   "source": [
    "import numpy.random as npr\n",
    "\n",
    "x1=npr.randn(10000)        # mean=0, std=1.0\n",
    "x2=npr.randn(10000)*0.5+1. # mean=1, std=0.5\n",
    "\n",
    "bins=np.linspace(-5.,5.,21)\n",
    "\n",
    "info1 = plt.hist(x1,bins=bins, color='red',alpha=0.5,lw=0)\n",
    "info2 = plt.hist(x2,bins=bins, color='blue',alpha=0.5,lw=0)"
   ]
  },
  {
   "cell_type": "markdown",
   "metadata": {},
   "source": [
    " Display an image from a FITS file.  First download this file: [im3433.fits](https://dl.dropboxusercontent.com/u/28917100/carnegie/summer2016/im3433.fits)"
   ]
  },
  {
   "cell_type": "code",
   "execution_count": null,
   "metadata": {
    "collapsed": false
   },
   "outputs": [],
   "source": [
    "# Display an image from a FITS file\n",
    "\n",
    "from astropy.io import fits\n",
    "\n",
    "im3433=fits.open('data/im3433.fits')\n",
    "im=im3433[0].data # the first extension (i.e., index 0), contains the image data\n",
    "\n",
    "fig, ax = plt.subplots()\n",
    "ax.imshow(im,interpolation='none',origin='lower',cmap='gray')\n",
    "ax.get_xaxis().set_visible(False) # comment these two lines to see what happens\n",
    "ax.get_yaxis().set_visible(False)"
   ]
  },
  {
   "cell_type": "markdown",
   "metadata": {},
   "source": [
    "# Doing some math on images\n",
    "\n",
    "Here's another example using some supernova data, which will have been downloaded as part of our github pakcage.\n",
    "\n",
    "We will plot these two images side-by-side. We specify `vmin=-40` and `vmax=40` in the `imshow()` function, which will set appropriate\n",
    "limits on the color map (there are saturated pixels that will cause the image to be washed out otherwise). We also choose the\n",
    "reverse color map (`gray_r`). Question: where's the supernova? "
   ]
  },
  {
   "cell_type": "code",
   "execution_count": null,
   "metadata": {
    "collapsed": false
   },
   "outputs": [],
   "source": [
    "im1 = fits.open('data/SN2011iv_B_SWO_DC_2011_12_11SN.fits')\n",
    "im2 = fits.open('data/SN2011iv_B_template.fits')\n",
    "fig,ax = plt.subplots(1,2, figsize=(15,8))\n",
    "ax[0].imshow(im1[0].data, vmin=-40,vmax=40, cmap='gray_r')\n",
    "ax[1].imshow(im2[0].data, vmin=-40, vmax=40, cmap='gray_r')"
   ]
  },
  {
   "cell_type": "markdown",
   "metadata": {},
   "source": [
    "These two images are from different epochs. So if you subtract one from the other and plot out the results, the supernova (and anything else that changed) should stand out. Try this. There's a surprise."
   ]
  },
  {
   "cell_type": "code",
   "execution_count": null,
   "metadata": {
    "collapsed": false
   },
   "outputs": [],
   "source": []
  },
  {
   "cell_type": "markdown",
   "metadata": {},
   "source": [
    "## Saving a figure to a directory\n",
    "Inline plotting like what we've been doing above is useful for quick viewing, but most of the time you'll want to save your figure to a folder somewhere and in a specific format.  Let's save one of the figures above to disk:"
   ]
  },
  {
   "cell_type": "code",
   "execution_count": null,
   "metadata": {
    "collapsed": false
   },
   "outputs": [],
   "source": [
    "x=np.arange(10)+1.\n",
    "y1=x**2\n",
    "y2=np.sqrt(x)\n",
    "\n",
    "fig, ax = plt.subplots()\n",
    "ax.set_yscale('log')\n",
    "ax.plot(x,y1,color='blue',marker='*',ms=15,ls='None',label='$y=x^2$')\n",
    "ax.plot(x,y2,color='red',marker='s',ms=15,ls='None',label='$y=\\sqrt{x}$')\n",
    "ax.text(6,10,'Hi there!')\n",
    "ax.legend(loc='upper left',fontsize=16,numpoints=1)\n",
    "\n",
    "# Note these two lines\n",
    "fig.savefig('exampe.pdf',format='pdf')\n",
    "plt.close()"
   ]
  },
  {
   "cell_type": "markdown",
   "metadata": {
    "collapsed": true
   },
   "source": [
    "# Analyze one of these data sets by making figures...\n",
    "Now that you've learned the basics of Python and its plotting package, `matplotlib`, download one of these data sets, make some figures, and tell us what you see:\n",
    "- **Galaxies**: \n",
    "    - Data: [galsample1.dat](https://dl.dropboxusercontent.com/u/28917100/carnegie/summer2016/galsample1.dat), [galsample2.dat](https://dl.dropboxusercontent.com/u/28917100/carnegie/summer2016/galsample2.dat)\n",
    "    - The two files represent two different galaxy samples.  The columns represent, (1) the galaxy ID, (2) right ascension (RA) in units of decimal degrees, (3) declination (Dec) in units of decimal degrees (i.e., latter two columns are similar to longitude and latitude, but project on the sky), (4) the redshift (i.e., a measure of the recession velocity due to the Doppler shift of light from the galaxy.  If one assumes a cosmology, the redshift translates into a distance), (5), the total stellar mass of the galaxy in units of $\\log(M/M_{\\odot})$, and (6) the star formation rate of the galaxy in units of $M_{\\odot}~{\\rm yr}^{-1}$.\n",
    "        - What is the difference between the two samples? Qualitatively, and quantitatively?\n",
    "- **Supernovae**:\n",
    "    - Data: [SNIa_DM.dat](https://dl.dropboxusercontent.com/u/28917100/carnegie/summer2016/SNIa_DM.dat)\n",
    "    - There are five columns: SN name, redshift (`zcmb`), Distance modulus (`DM`), error `eDM`, and a survey number.\n",
    "    - Try plotting a Hubble diagram (`DM` vs. `zcmb`) with errorbars.\n",
    "    - Use logarithmic x-axis to make the Hubble diagram straight.\n",
    "    - Plot the two different surveys in different colors/symbols.\n",
    "    - Try plotting different *theoretical* Hubble laws (with different Hubble constants) with lines:\n",
    "      $$ DM = 5\\log_{10}\\left(\\frac{cz}{H_0}\\right) + 25 $$\n",
    "    - Do chi-by-eye to meausre $H_0$. Note that if $H_0$ is in $km/s/Mpc$, then $c = 3\\times 10^{5} km/s$."
   ]
  },
  {
   "cell_type": "code",
   "execution_count": null,
   "metadata": {
    "collapsed": true
   },
   "outputs": [],
   "source": []
  }
 ],
 "metadata": {
  "kernelspec": {
   "display_name": "Python 2",
   "language": "python",
   "name": "python2"
  },
  "language_info": {
   "codemirror_mode": {
    "name": "ipython",
    "version": 2
   },
   "file_extension": ".py",
   "mimetype": "text/x-python",
   "name": "python",
   "nbconvert_exporter": "python",
   "pygments_lexer": "ipython2",
   "version": "2.7.13"
  }
 },
 "nbformat": 4,
 "nbformat_minor": 0
}
