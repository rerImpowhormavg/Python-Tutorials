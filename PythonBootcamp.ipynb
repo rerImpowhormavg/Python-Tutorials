{
 "cells": [
  {
   "cell_type": "markdown",
   "metadata": {},
   "source": [
    "# Carnegie Python Bootcamp\n",
    "\n",
    "Welcome to the python bootcamp. This thing you're reading is called an _ipython notebook_ and will be your first introduction to the Python programming language. Notebooks are a combination of text markup and code that you can run in real time.\n",
    "\n",
    "## Importing what you need\n",
    "\n",
    "It is often said that python comes with the _batteries included_, which means it comes with almost everything you need, bundled up in seperate _modules_. But not everything is loaded into memory automatically. You need to import the modules you need. Try running the following to import the antigravity module. Just hit `CTRL-ENTER` in the cell to execute the code"
   ]
  },
  {
   "cell_type": "code",
   "execution_count": 1,
   "metadata": {
    "collapsed": true
   },
   "outputs": [],
   "source": [
    "import antigravity"
   ]
  },
  {
   "cell_type": "markdown",
   "metadata": {},
   "source": [
    "You will find that python is full of nerdy humour like this. By the way, python is named after Monty Python's Flying Circus, *not* the reptile. Let's go ahead and import some useful modules you **will** need. Use this next command cell to import the the modules named ``os``, ``sys``, and ``numpy``."
   ]
  },
  {
   "cell_type": "code",
   "execution_count": 2,
   "metadata": {
    "collapsed": true
   },
   "outputs": [],
   "source": [
    "import os,sys,numpy"
   ]
  },
  {
   "cell_type": "markdown",
   "metadata": {},
   "source": [
    "The `os` module gives you functions relating to the operating system, `sys` gives you information on the python interpreter and your script, and `numpy` is the mathematical powerhorse of python, allowing you to manipulate arrays of numbers.\n",
    "\n",
    "Once you import a module, all the functions and data for that module live in its _namespace_. So if I wanted to use the `getcwd` function from the `os` module, I would have to refer to it as ``os.getcwd``. Try running the next command:"
   ]
  },
  {
   "cell_type": "code",
   "execution_count": 3,
   "metadata": {
    "collapsed": false,
    "scrolled": true
   },
   "outputs": [
    {
     "data": {
      "text/plain": [
       "'/Users/cburns/python/notebooks/Bootcamp'"
      ]
     },
     "execution_count": 3,
     "metadata": {},
     "output_type": "execute_result"
    }
   ],
   "source": [
    "os.getcwd()"
   ]
  },
  {
   "cell_type": "markdown",
   "metadata": {},
   "source": [
    "As you can probably guess, `os.getcwd` gets the current working directory. Try some commands for yourself. The ``numpy`` module has many mathematical functions. Try computing the square root (``sqrt``) of 2. You can also try computing $\\sin(\\pi)$ (numpy has a built-in value ``numpy.pi``) and even $e^{i\\pi}$ (python uses the engineering convention of ``1j`` as $\\sqrt{-1}$)."
   ]
  },
  {
   "cell_type": "code",
   "execution_count": 4,
   "metadata": {
    "collapsed": false
   },
   "outputs": [
    {
     "data": {
      "text/plain": [
       "(-1+1.2246467991473532e-16j)"
      ]
     },
     "execution_count": 4,
     "metadata": {},
     "output_type": "execute_result"
    }
   ],
   "source": [
    "numpy.sqrt(2)\n",
    "numpy.sin(numpy.pi)\n",
    "numpy.exp(numpy.pi*1j)"
   ]
  },
  {
   "cell_type": "markdown",
   "metadata": {},
   "source": [
    "There can also be namespaces inside namespaces. For example, to test if a file exists, you would do:"
   ]
  },
  {
   "cell_type": "code",
   "execution_count": 5,
   "metadata": {
    "collapsed": false
   },
   "outputs": [
    {
     "name": "stdout",
     "output_type": "stream",
     "text": [
      "False\n"
     ]
    }
   ],
   "source": [
    "print (os.path.isfile('.bash_profile'))"
   ]
  },
  {
   "cell_type": "markdown",
   "metadata": {},
   "source": [
    "Here is a non-comprehensive list of modules you may find useful. Documentation for all of them can be found with a quick google search.\n",
    "\n",
    "- `os`, `sys`: As mentioned above, these give you access to the operating system, files, and environment.\n",
    "- `numpy`: Gives you arrays (vectors, matrices) and the ability to do math on them.\n",
    "- `scipy`: Think of this as \"Numerical Recipes for Python\". Root-finding, fitting functions, integration, special                mathematical functions, etc.\n",
    "- `pandas`: Primarily used for reading/writing data. Useful for [data wrangling](https://en.wikipedia.org/wiki/Data_wrangling).\n",
    "- `astropy`: Astronomy-related functions, including FITS image reading, astrometry, and cosmological calculations.\n",
    "\n",
    "## Getting Help\n",
    "\n",
    "Almost everything in python has documentation. Just use the `help()` function on anything in python to get information. Here is an example help output on `numpy.sqrt`. Try others."
   ]
  },
  {
   "cell_type": "code",
   "execution_count": 6,
   "metadata": {
    "collapsed": false,
    "scrolled": true
   },
   "outputs": [
    {
     "name": "stdout",
     "output_type": "stream",
     "text": [
      "Help on ufunc object:\n",
      "\n",
      "sqrt = class ufunc(__builtin__.object)\n",
      " |  Functions that operate element by element on whole arrays.\n",
      " |  \n",
      " |  To see the documentation for a specific ufunc, use np.info().  For\n",
      " |  example, np.info(np.sin).  Because ufuncs are written in C\n",
      " |  (for speed) and linked into Python with NumPy's ufunc facility,\n",
      " |  Python's help() function finds this page whenever help() is called\n",
      " |  on a ufunc.\n",
      " |  \n",
      " |  A detailed explanation of ufuncs can be found in the \"ufuncs.rst\"\n",
      " |  file in the NumPy reference guide.\n",
      " |  \n",
      " |  Unary ufuncs:\n",
      " |  =============\n",
      " |  \n",
      " |  op(X, out=None)\n",
      " |  Apply op to X elementwise\n",
      " |  \n",
      " |  Parameters\n",
      " |  ----------\n",
      " |  X : array_like\n",
      " |      Input array.\n",
      " |  out : array_like\n",
      " |      An array to store the output. Must be the same shape as `X`.\n",
      " |  \n",
      " |  Returns\n",
      " |  -------\n",
      " |  r : array_like\n",
      " |      `r` will have the same shape as `X`; if out is provided, `r`\n",
      " |      will be equal to out.\n",
      " |  \n",
      " |  Binary ufuncs:\n",
      " |  ==============\n",
      " |  \n",
      " |  op(X, Y, out=None)\n",
      " |  Apply `op` to `X` and `Y` elementwise. May \"broadcast\" to make\n",
      " |  the shapes of `X` and `Y` congruent.\n",
      " |  \n",
      " |  The broadcasting rules are:\n",
      " |  \n",
      " |  * Dimensions of length 1 may be prepended to either array.\n",
      " |  * Arrays may be repeated along dimensions of length 1.\n",
      " |  \n",
      " |  Parameters\n",
      " |  ----------\n",
      " |  X : array_like\n",
      " |      First input array.\n",
      " |  Y : array_like\n",
      " |      Second input array.\n",
      " |  out : array_like\n",
      " |      An array to store the output. Must be the same shape as the\n",
      " |      output would have.\n",
      " |  \n",
      " |  Returns\n",
      " |  -------\n",
      " |  r : array_like\n",
      " |      The return value; if out is provided, `r` will be equal to out.\n",
      " |  \n",
      " |  Methods defined here:\n",
      " |  \n",
      " |  __call__(...)\n",
      " |      x.__call__(...) <==> x(...)\n",
      " |  \n",
      " |  __repr__(...)\n",
      " |      x.__repr__() <==> repr(x)\n",
      " |  \n",
      " |  __str__(...)\n",
      " |      x.__str__() <==> str(x)\n",
      " |  \n",
      " |  accumulate(...)\n",
      " |      accumulate(array, axis=0, dtype=None, out=None)\n",
      " |      \n",
      " |      Accumulate the result of applying the operator to all elements.\n",
      " |      \n",
      " |      For a one-dimensional array, accumulate produces results equivalent to::\n",
      " |      \n",
      " |        r = np.empty(len(A))\n",
      " |        t = op.identity        # op = the ufunc being applied to A's  elements\n",
      " |        for i in range(len(A)):\n",
      " |            t = op(t, A[i])\n",
      " |            r[i] = t\n",
      " |        return r\n",
      " |      \n",
      " |      For example, add.accumulate() is equivalent to np.cumsum().\n",
      " |      \n",
      " |      For a multi-dimensional array, accumulate is applied along only one\n",
      " |      axis (axis zero by default; see Examples below) so repeated use is\n",
      " |      necessary if one wants to accumulate over multiple axes.\n",
      " |      \n",
      " |      Parameters\n",
      " |      ----------\n",
      " |      array : array_like\n",
      " |          The array to act on.\n",
      " |      axis : int, optional\n",
      " |          The axis along which to apply the accumulation; default is zero.\n",
      " |      dtype : data-type code, optional\n",
      " |          The data-type used to represent the intermediate results. Defaults\n",
      " |          to the data-type of the output array if such is provided, or the\n",
      " |          the data-type of the input array if no output array is provided.\n",
      " |      out : ndarray, optional\n",
      " |          A location into which the result is stored. If not provided a\n",
      " |          freshly-allocated array is returned.\n",
      " |      \n",
      " |      Returns\n",
      " |      -------\n",
      " |      r : ndarray\n",
      " |          The accumulated values. If `out` was supplied, `r` is a reference to\n",
      " |          `out`.\n",
      " |      \n",
      " |      Examples\n",
      " |      --------\n",
      " |      1-D array examples:\n",
      " |      \n",
      " |      >>> np.add.accumulate([2, 3, 5])\n",
      " |      array([ 2,  5, 10])\n",
      " |      >>> np.multiply.accumulate([2, 3, 5])\n",
      " |      array([ 2,  6, 30])\n",
      " |      \n",
      " |      2-D array examples:\n",
      " |      \n",
      " |      >>> I = np.eye(2)\n",
      " |      >>> I\n",
      " |      array([[ 1.,  0.],\n",
      " |             [ 0.,  1.]])\n",
      " |      \n",
      " |      Accumulate along axis 0 (rows), down columns:\n",
      " |      \n",
      " |      >>> np.add.accumulate(I, 0)\n",
      " |      array([[ 1.,  0.],\n",
      " |             [ 1.,  1.]])\n",
      " |      >>> np.add.accumulate(I) # no axis specified = axis zero\n",
      " |      array([[ 1.,  0.],\n",
      " |             [ 1.,  1.]])\n",
      " |      \n",
      " |      Accumulate along axis 1 (columns), through rows:\n",
      " |      \n",
      " |      >>> np.add.accumulate(I, 1)\n",
      " |      array([[ 1.,  1.],\n",
      " |             [ 0.,  1.]])\n",
      " |  \n",
      " |  at(...)\n",
      " |      at(a, indices, b=None)\n",
      " |      \n",
      " |      Performs unbuffered in place operation on operand 'a' for elements\n",
      " |      specified by 'indices'. For addition ufunc, this method is equivalent to\n",
      " |      `a[indices] += b`, except that results are accumulated for elements that\n",
      " |      are indexed more than once. For example, `a[[0,0]] += 1` will only\n",
      " |      increment the first element once because of buffering, whereas\n",
      " |      `add.at(a, [0,0], 1)` will increment the first element twice.\n",
      " |      \n",
      " |      .. versionadded:: 1.8.0\n",
      " |      \n",
      " |      Parameters\n",
      " |      ----------\n",
      " |      a : array_like\n",
      " |          The array to perform in place operation on.\n",
      " |      indices : array_like or tuple\n",
      " |          Array like index object or slice object for indexing into first\n",
      " |          operand. If first operand has multiple dimensions, indices can be a\n",
      " |          tuple of array like index objects or slice objects.\n",
      " |      b : array_like\n",
      " |          Second operand for ufuncs requiring two operands. Operand must be\n",
      " |          broadcastable over first operand after indexing or slicing.\n",
      " |      \n",
      " |      Examples\n",
      " |      --------\n",
      " |      Set items 0 and 1 to their negative values:\n",
      " |      \n",
      " |      >>> a = np.array([1, 2, 3, 4])\n",
      " |      >>> np.negative.at(a, [0, 1])\n",
      " |      >>> print(a)\n",
      " |      array([-1, -2, 3, 4])\n",
      " |      \n",
      " |      ::\n",
      " |      \n",
      " |      Increment items 0 and 1, and increment item 2 twice:\n",
      " |      \n",
      " |      >>> a = np.array([1, 2, 3, 4])\n",
      " |      >>> np.add.at(a, [0, 1, 2, 2], 1)\n",
      " |      >>> print(a)\n",
      " |      array([2, 3, 5, 4])\n",
      " |      \n",
      " |      ::\n",
      " |      \n",
      " |      Add items 0 and 1 in first array to second array,\n",
      " |      and store results in first array:\n",
      " |      \n",
      " |      >>> a = np.array([1, 2, 3, 4])\n",
      " |      >>> b = np.array([1, 2])\n",
      " |      >>> np.add.at(a, [0, 1], b)\n",
      " |      >>> print(a)\n",
      " |      array([2, 4, 3, 4])\n",
      " |  \n",
      " |  outer(...)\n",
      " |      outer(A, B)\n",
      " |      \n",
      " |      Apply the ufunc `op` to all pairs (a, b) with a in `A` and b in `B`.\n",
      " |      \n",
      " |      Let ``M = A.ndim``, ``N = B.ndim``. Then the result, `C`, of\n",
      " |      ``op.outer(A, B)`` is an array of dimension M + N such that:\n",
      " |      \n",
      " |      .. math:: C[i_0, ..., i_{M-1}, j_0, ..., j_{N-1}] =\n",
      " |         op(A[i_0, ..., i_{M-1}], B[j_0, ..., j_{N-1}])\n",
      " |      \n",
      " |      For `A` and `B` one-dimensional, this is equivalent to::\n",
      " |      \n",
      " |        r = empty(len(A),len(B))\n",
      " |        for i in range(len(A)):\n",
      " |            for j in range(len(B)):\n",
      " |                r[i,j] = op(A[i], B[j]) # op = ufunc in question\n",
      " |      \n",
      " |      Parameters\n",
      " |      ----------\n",
      " |      A : array_like\n",
      " |          First array\n",
      " |      B : array_like\n",
      " |          Second array\n",
      " |      \n",
      " |      Returns\n",
      " |      -------\n",
      " |      r : ndarray\n",
      " |          Output array\n",
      " |      \n",
      " |      See Also\n",
      " |      --------\n",
      " |      numpy.outer\n",
      " |      \n",
      " |      Examples\n",
      " |      --------\n",
      " |      >>> np.multiply.outer([1, 2, 3], [4, 5, 6])\n",
      " |      array([[ 4,  5,  6],\n",
      " |             [ 8, 10, 12],\n",
      " |             [12, 15, 18]])\n",
      " |      \n",
      " |      A multi-dimensional example:\n",
      " |      \n",
      " |      >>> A = np.array([[1, 2, 3], [4, 5, 6]])\n",
      " |      >>> A.shape\n",
      " |      (2, 3)\n",
      " |      >>> B = np.array([[1, 2, 3, 4]])\n",
      " |      >>> B.shape\n",
      " |      (1, 4)\n",
      " |      >>> C = np.multiply.outer(A, B)\n",
      " |      >>> C.shape; C\n",
      " |      (2, 3, 1, 4)\n",
      " |      array([[[[ 1,  2,  3,  4]],\n",
      " |              [[ 2,  4,  6,  8]],\n",
      " |              [[ 3,  6,  9, 12]]],\n",
      " |             [[[ 4,  8, 12, 16]],\n",
      " |              [[ 5, 10, 15, 20]],\n",
      " |              [[ 6, 12, 18, 24]]]])\n",
      " |  \n",
      " |  reduce(...)\n",
      " |      reduce(a, axis=0, dtype=None, out=None, keepdims=False)\n",
      " |      \n",
      " |      Reduces `a`'s dimension by one, by applying ufunc along one axis.\n",
      " |      \n",
      " |      Let :math:`a.shape = (N_0, ..., N_i, ..., N_{M-1})`.  Then\n",
      " |      :math:`ufunc.reduce(a, axis=i)[k_0, ..,k_{i-1}, k_{i+1}, .., k_{M-1}]` =\n",
      " |      the result of iterating `j` over :math:`range(N_i)`, cumulatively applying\n",
      " |      ufunc to each :math:`a[k_0, ..,k_{i-1}, j, k_{i+1}, .., k_{M-1}]`.\n",
      " |      For a one-dimensional array, reduce produces results equivalent to:\n",
      " |      ::\n",
      " |      \n",
      " |       r = op.identity # op = ufunc\n",
      " |       for i in range(len(A)):\n",
      " |         r = op(r, A[i])\n",
      " |       return r\n",
      " |      \n",
      " |      For example, add.reduce() is equivalent to sum().\n",
      " |      \n",
      " |      Parameters\n",
      " |      ----------\n",
      " |      a : array_like\n",
      " |          The array to act on.\n",
      " |      axis : None or int or tuple of ints, optional\n",
      " |          Axis or axes along which a reduction is performed.\n",
      " |          The default (`axis` = 0) is perform a reduction over the first\n",
      " |          dimension of the input array. `axis` may be negative, in\n",
      " |          which case it counts from the last to the first axis.\n",
      " |      \n",
      " |          .. versionadded:: 1.7.0\n",
      " |      \n",
      " |          If this is `None`, a reduction is performed over all the axes.\n",
      " |          If this is a tuple of ints, a reduction is performed on multiple\n",
      " |          axes, instead of a single axis or all the axes as before.\n",
      " |      \n",
      " |          For operations which are either not commutative or not associative,\n",
      " |          doing a reduction over multiple axes is not well-defined. The\n",
      " |          ufuncs do not currently raise an exception in this case, but will\n",
      " |          likely do so in the future.\n",
      " |      dtype : data-type code, optional\n",
      " |          The type used to represent the intermediate results. Defaults\n",
      " |          to the data-type of the output array if this is provided, or\n",
      " |          the data-type of the input array if no output array is provided.\n",
      " |      out : ndarray, optional\n",
      " |          A location into which the result is stored. If not provided, a\n",
      " |          freshly-allocated array is returned.\n",
      " |      keepdims : bool, optional\n",
      " |          If this is set to True, the axes which are reduced are left\n",
      " |          in the result as dimensions with size one. With this option,\n",
      " |          the result will broadcast correctly against the original `arr`.\n",
      " |      \n",
      " |          .. versionadded:: 1.7.0\n",
      " |      \n",
      " |      Returns\n",
      " |      -------\n",
      " |      r : ndarray\n",
      " |          The reduced array. If `out` was supplied, `r` is a reference to it.\n",
      " |      \n",
      " |      Examples\n",
      " |      --------\n",
      " |      >>> np.multiply.reduce([2,3,5])\n",
      " |      30\n",
      " |      \n",
      " |      A multi-dimensional array example:\n",
      " |      \n",
      " |      >>> X = np.arange(8).reshape((2,2,2))\n",
      " |      >>> X\n",
      " |      array([[[0, 1],\n",
      " |              [2, 3]],\n",
      " |             [[4, 5],\n",
      " |              [6, 7]]])\n",
      " |      >>> np.add.reduce(X, 0)\n",
      " |      array([[ 4,  6],\n",
      " |             [ 8, 10]])\n",
      " |      >>> np.add.reduce(X) # confirm: default axis value is 0\n",
      " |      array([[ 4,  6],\n",
      " |             [ 8, 10]])\n",
      " |      >>> np.add.reduce(X, 1)\n",
      " |      array([[ 2,  4],\n",
      " |             [10, 12]])\n",
      " |      >>> np.add.reduce(X, 2)\n",
      " |      array([[ 1,  5],\n",
      " |             [ 9, 13]])\n",
      " |  \n",
      " |  reduceat(...)\n",
      " |      reduceat(a, indices, axis=0, dtype=None, out=None)\n",
      " |      \n",
      " |      Performs a (local) reduce with specified slices over a single axis.\n",
      " |      \n",
      " |      For i in ``range(len(indices))``, `reduceat` computes\n",
      " |      ``ufunc.reduce(a[indices[i]:indices[i+1]])``, which becomes the i-th\n",
      " |      generalized \"row\" parallel to `axis` in the final result (i.e., in a\n",
      " |      2-D array, for example, if `axis = 0`, it becomes the i-th row, but if\n",
      " |      `axis = 1`, it becomes the i-th column).  There are three exceptions to this:\n",
      " |      \n",
      " |      * when ``i = len(indices) - 1`` (so for the last index),\n",
      " |        ``indices[i+1] = a.shape[axis]``.\n",
      " |      * if ``indices[i] >= indices[i + 1]``, the i-th generalized \"row\" is\n",
      " |        simply ``a[indices[i]]``.\n",
      " |      * if ``indices[i] >= len(a)`` or ``indices[i] < 0``, an error is raised.\n",
      " |      \n",
      " |      The shape of the output depends on the size of `indices`, and may be\n",
      " |      larger than `a` (this happens if ``len(indices) > a.shape[axis]``).\n",
      " |      \n",
      " |      Parameters\n",
      " |      ----------\n",
      " |      a : array_like\n",
      " |          The array to act on.\n",
      " |      indices : array_like\n",
      " |          Paired indices, comma separated (not colon), specifying slices to\n",
      " |          reduce.\n",
      " |      axis : int, optional\n",
      " |          The axis along which to apply the reduceat.\n",
      " |      dtype : data-type code, optional\n",
      " |          The type used to represent the intermediate results. Defaults\n",
      " |          to the data type of the output array if this is provided, or\n",
      " |          the data type of the input array if no output array is provided.\n",
      " |      out : ndarray, optional\n",
      " |          A location into which the result is stored. If not provided a\n",
      " |          freshly-allocated array is returned.\n",
      " |      \n",
      " |      Returns\n",
      " |      -------\n",
      " |      r : ndarray\n",
      " |          The reduced values. If `out` was supplied, `r` is a reference to\n",
      " |          `out`.\n",
      " |      \n",
      " |      Notes\n",
      " |      -----\n",
      " |      A descriptive example:\n",
      " |      \n",
      " |      If `a` is 1-D, the function `ufunc.accumulate(a)` is the same as\n",
      " |      ``ufunc.reduceat(a, indices)[::2]`` where `indices` is\n",
      " |      ``range(len(array) - 1)`` with a zero placed\n",
      " |      in every other element:\n",
      " |      ``indices = zeros(2 * len(a) - 1)``, ``indices[1::2] = range(1, len(a))``.\n",
      " |      \n",
      " |      Don't be fooled by this attribute's name: `reduceat(a)` is not\n",
      " |      necessarily smaller than `a`.\n",
      " |      \n",
      " |      Examples\n",
      " |      --------\n",
      " |      To take the running sum of four successive values:\n",
      " |      \n",
      " |      >>> np.add.reduceat(np.arange(8),[0,4, 1,5, 2,6, 3,7])[::2]\n",
      " |      array([ 6, 10, 14, 18])\n",
      " |      \n",
      " |      A 2-D example:\n",
      " |      \n",
      " |      >>> x = np.linspace(0, 15, 16).reshape(4,4)\n",
      " |      >>> x\n",
      " |      array([[  0.,   1.,   2.,   3.],\n",
      " |             [  4.,   5.,   6.,   7.],\n",
      " |             [  8.,   9.,  10.,  11.],\n",
      " |             [ 12.,  13.,  14.,  15.]])\n",
      " |      \n",
      " |      ::\n",
      " |      \n",
      " |       # reduce such that the result has the following five rows:\n",
      " |       # [row1 + row2 + row3]\n",
      " |       # [row4]\n",
      " |       # [row2]\n",
      " |       # [row3]\n",
      " |       # [row1 + row2 + row3 + row4]\n",
      " |      \n",
      " |      >>> np.add.reduceat(x, [0, 3, 1, 2, 0])\n",
      " |      array([[ 12.,  15.,  18.,  21.],\n",
      " |             [ 12.,  13.,  14.,  15.],\n",
      " |             [  4.,   5.,   6.,   7.],\n",
      " |             [  8.,   9.,  10.,  11.],\n",
      " |             [ 24.,  28.,  32.,  36.]])\n",
      " |      \n",
      " |      ::\n",
      " |      \n",
      " |       # reduce such that result has the following two columns:\n",
      " |       # [col1 * col2 * col3, col4]\n",
      " |      \n",
      " |      >>> np.multiply.reduceat(x, [0, 3], 1)\n",
      " |      array([[    0.,     3.],\n",
      " |             [  120.,     7.],\n",
      " |             [  720.,    11.],\n",
      " |             [ 2184.,    15.]])\n",
      " |  \n",
      " |  ----------------------------------------------------------------------\n",
      " |  Data descriptors defined here:\n",
      " |  \n",
      " |  identity\n",
      " |      The identity value.\n",
      " |      \n",
      " |      Data attribute containing the identity element for the ufunc, if it has one.\n",
      " |      If it does not, the attribute value is None.\n",
      " |      \n",
      " |      Examples\n",
      " |      --------\n",
      " |      >>> np.add.identity\n",
      " |      0\n",
      " |      >>> np.multiply.identity\n",
      " |      1\n",
      " |      >>> np.power.identity\n",
      " |      1\n",
      " |      >>> print np.exp.identity\n",
      " |      None\n",
      " |  \n",
      " |  nargs\n",
      " |      The number of arguments.\n",
      " |      \n",
      " |      Data attribute containing the number of arguments the ufunc takes, including\n",
      " |      optional ones.\n",
      " |      \n",
      " |      Notes\n",
      " |      -----\n",
      " |      Typically this value will be one more than what you might expect because all\n",
      " |      ufuncs take  the optional \"out\" argument.\n",
      " |      \n",
      " |      Examples\n",
      " |      --------\n",
      " |      >>> np.add.nargs\n",
      " |      3\n",
      " |      >>> np.multiply.nargs\n",
      " |      3\n",
      " |      >>> np.power.nargs\n",
      " |      3\n",
      " |      >>> np.exp.nargs\n",
      " |      2\n",
      " |  \n",
      " |  nin\n",
      " |      The number of inputs.\n",
      " |      \n",
      " |      Data attribute containing the number of arguments the ufunc treats as input.\n",
      " |      \n",
      " |      Examples\n",
      " |      --------\n",
      " |      >>> np.add.nin\n",
      " |      2\n",
      " |      >>> np.multiply.nin\n",
      " |      2\n",
      " |      >>> np.power.nin\n",
      " |      2\n",
      " |      >>> np.exp.nin\n",
      " |      1\n",
      " |  \n",
      " |  nout\n",
      " |      The number of outputs.\n",
      " |      \n",
      " |      Data attribute containing the number of arguments the ufunc treats as output.\n",
      " |      \n",
      " |      Notes\n",
      " |      -----\n",
      " |      Since all ufuncs can take output arguments, this will always be (at least) 1.\n",
      " |      \n",
      " |      Examples\n",
      " |      --------\n",
      " |      >>> np.add.nout\n",
      " |      1\n",
      " |      >>> np.multiply.nout\n",
      " |      1\n",
      " |      >>> np.power.nout\n",
      " |      1\n",
      " |      >>> np.exp.nout\n",
      " |      1\n",
      " |  \n",
      " |  ntypes\n",
      " |      The number of types.\n",
      " |      \n",
      " |      The number of numerical NumPy types - of which there are 18 total - on which\n",
      " |      the ufunc can operate.\n",
      " |      \n",
      " |      See Also\n",
      " |      --------\n",
      " |      numpy.ufunc.types\n",
      " |      \n",
      " |      Examples\n",
      " |      --------\n",
      " |      >>> np.add.ntypes\n",
      " |      18\n",
      " |      >>> np.multiply.ntypes\n",
      " |      18\n",
      " |      >>> np.power.ntypes\n",
      " |      17\n",
      " |      >>> np.exp.ntypes\n",
      " |      7\n",
      " |      >>> np.remainder.ntypes\n",
      " |      14\n",
      " |  \n",
      " |  signature\n",
      " |  \n",
      " |  types\n",
      " |      Returns a list with types grouped input->output.\n",
      " |      \n",
      " |      Data attribute listing the data-type \"Domain-Range\" groupings the ufunc can\n",
      " |      deliver. The data-types are given using the character codes.\n",
      " |      \n",
      " |      See Also\n",
      " |      --------\n",
      " |      numpy.ufunc.ntypes\n",
      " |      \n",
      " |      Examples\n",
      " |      --------\n",
      " |      >>> np.add.types\n",
      " |      ['??->?', 'bb->b', 'BB->B', 'hh->h', 'HH->H', 'ii->i', 'II->I', 'll->l',\n",
      " |      'LL->L', 'qq->q', 'QQ->Q', 'ff->f', 'dd->d', 'gg->g', 'FF->F', 'DD->D',\n",
      " |      'GG->G', 'OO->O']\n",
      " |      \n",
      " |      >>> np.multiply.types\n",
      " |      ['??->?', 'bb->b', 'BB->B', 'hh->h', 'HH->H', 'ii->i', 'II->I', 'll->l',\n",
      " |      'LL->L', 'qq->q', 'QQ->Q', 'ff->f', 'dd->d', 'gg->g', 'FF->F', 'DD->D',\n",
      " |      'GG->G', 'OO->O']\n",
      " |      \n",
      " |      >>> np.power.types\n",
      " |      ['bb->b', 'BB->B', 'hh->h', 'HH->H', 'ii->i', 'II->I', 'll->l', 'LL->L',\n",
      " |      'qq->q', 'QQ->Q', 'ff->f', 'dd->d', 'gg->g', 'FF->F', 'DD->D', 'GG->G',\n",
      " |      'OO->O']\n",
      " |      \n",
      " |      >>> np.exp.types\n",
      " |      ['f->f', 'd->d', 'g->g', 'F->F', 'D->D', 'G->G', 'O->O']\n",
      " |      \n",
      " |      >>> np.remainder.types\n",
      " |      ['bb->b', 'BB->B', 'hh->h', 'HH->H', 'ii->i', 'II->I', 'll->l', 'LL->L',\n",
      " |      'qq->q', 'QQ->Q', 'ff->f', 'dd->d', 'gg->g', 'OO->O']\n",
      "\n"
     ]
    }
   ],
   "source": [
    "help(numpy.sqrt)"
   ]
  },
  {
   "cell_type": "markdown",
   "metadata": {
    "collapsed": true
   },
   "source": [
    "## Variables and Types\n",
    "\n",
    "A variable is like a box that you put stuff (values) in for later use. In Python, there are lots of different ``types`` of variables corresponding to what you put in. Unlike other languages, you don't have to tell ``python`` what type each variable is:  ``python`` figures it out on its own. To put the value 1 into a box called x, just use the equals sign, like you would when solving a math problem."
   ]
  },
  {
   "cell_type": "code",
   "execution_count": 7,
   "metadata": {
    "collapsed": true
   },
   "outputs": [],
   "source": [
    "x=1"
   ]
  },
  {
   "cell_type": "markdown",
   "metadata": {},
   "source": [
    "Now you can later use this value. Try printing it out using the ``print()`` function. You can also modify the variable. Try adding or subtracting from x and print it out again."
   ]
  },
  {
   "cell_type": "code",
   "execution_count": 8,
   "metadata": {
    "collapsed": false,
    "scrolled": false
   },
   "outputs": [
    {
     "name": "stdout",
     "output_type": "stream",
     "text": [
      "1\n",
      "2\n"
     ]
    }
   ],
   "source": [
    "print(x)\n",
    "x=x+1\n",
    "print(x)"
   ]
  },
  {
   "cell_type": "markdown",
   "metadata": {},
   "source": [
    "But be careful about the type. Try assigning the value of 1 to ``y``. Now divide it by two and print out the result. "
   ]
  },
  {
   "cell_type": "code",
   "execution_count": 9,
   "metadata": {
    "collapsed": false
   },
   "outputs": [
    {
     "name": "stdout",
     "output_type": "stream",
     "text": [
      "0\n"
     ]
    }
   ],
   "source": [
    "y = 1\n",
    "y = y/2\n",
    "print(y)"
   ]
  },
  {
   "cell_type": "markdown",
   "metadata": {},
   "source": [
    "Repeat, but this time assign the value of 1.0 to y."
   ]
  },
  {
   "cell_type": "code",
   "execution_count": 10,
   "metadata": {
    "collapsed": false
   },
   "outputs": [
    {
     "name": "stdout",
     "output_type": "stream",
     "text": [
      "0.5\n"
     ]
    }
   ],
   "source": [
    "# make sure you include a decimal in the number one! (fyi, this is a comment)\n",
    "y = 1.0\n",
    "y = y/2\n",
    "print (y)"
   ]
  },
  {
   "cell_type": "markdown",
   "metadata": {},
   "source": [
    "You get different results because in the first instance, ``y`` was interpreted as an integer, so the result of dividing by 2 must also be an integer. In the second case, ``y`` is interpreted as a real number (aka floating point or float), so the result of dividing by zero is what you expect. There are other types of variables. The most commonly used are strings, lists, and arrays. But literally **anything** can be assigned to an array. You can even assign the ``numpy`` module to the variable ``np``."
   ]
  },
  {
   "cell_type": "code",
   "execution_count": 11,
   "metadata": {
    "collapsed": false
   },
   "outputs": [],
   "source": [
    "np = numpy"
   ]
  },
  {
   "cell_type": "markdown",
   "metadata": {},
   "source": [
    "Now you can use ``np.sqrt()`` rather than ``numpy.sqrt()``. Most python programmers do this with commonly-used modules. In fact, we usually just use the special form:  ``import numpy as np``."
   ]
  },
  {
   "cell_type": "markdown",
   "metadata": {},
   "source": [
    "# Strings\n",
    "Strings are collections of alpha-numeric characters and are the primary way data are represented outside your code. So you will find yourself manipulating strings in Python ALL THE TIME. You might need to convert strings from a text file into python data ojects to work with or you might need to do the opposite and generate an output file with final results that can be read by humans. Below are the most common things we need.\n",
    "\n",
    "Strings are enclosed in matching singe (`'`) or double (`\"`) quotes. Python doesn't distinguish as long as you match them consistent. "
   ]
  },
  {
   "cell_type": "code",
   "execution_count": 12,
   "metadata": {
    "collapsed": false
   },
   "outputs": [
    {
     "name": "stdout",
     "output_type": "stream",
     "text": [
      "this is a string\n"
     ]
    }
   ],
   "source": [
    "# Strings are enclosed by single or double quotes\n",
    "s='this is a string'\n",
    "print (s)"
   ]
  },
  {
   "cell_type": "markdown",
   "metadata": {},
   "source": [
    "We can use the `len()` function to determine the length of the string. Try this out below."
   ]
  },
  {
   "cell_type": "code",
   "execution_count": null,
   "metadata": {
    "collapsed": true
   },
   "outputs": [],
   "source": []
  },
  {
   "cell_type": "markdown",
   "metadata": {},
   "source": [
    "Strings are very similar to lists in `python` (we'll see that below). Each alpha-numeric character is an element in the string, and you can refer to individual elements (characters) using an index enclosed in square brackets (`[]`). You can also specify a range of indices by separating them with a colon (`:`). `Python` indexes from 0 (not 1), so the first element is index `[0]`, the second `[1]` and so on."
   ]
  },
  {
   "cell_type": "code",
   "execution_count": 13,
   "metadata": {
    "collapsed": false
   },
   "outputs": [
    {
     "name": "stdout",
     "output_type": "stream",
     "text": [
      "i\n",
      "is i\n"
     ]
    }
   ],
   "source": [
    "print(s[2])\n",
    "print(s[2:6])"
   ]
  },
  {
   "cell_type": "markdown",
   "metadata": {},
   "source": [
    "Specifying a range of indices (as well as more complicated indexing we'll see later) is called *slicing*.\n",
    "\n",
    "## Formatting strings\n",
    "Sometimes you'll need your integers and floats to be converted into strings and written out into a table with specific formats (e.g., number of significant figures). This involves a syntax that's almost a separate language itself (though if you've used `C` or `C++` it will be very familiar). Here is a good reference: https://pyformat.info/\n",
    "\n",
    "We'll cover the most important. First, if you just print out a regular floating point number, you get some arbitrary number of significant figures. The same is true if you just try to convert the float to a string using `str()`:"
   ]
  },
  {
   "cell_type": "code",
   "execution_count": 14,
   "metadata": {
    "collapsed": false
   },
   "outputs": [
    {
     "name": "stdout",
     "output_type": "stream",
     "text": [
      "3.14159265359\n",
      "3.14159265359\n"
     ]
    }
   ],
   "source": [
    "x=3.141592653589\n",
    "print(x)\n",
    "\n",
    "s=str(x)\n",
    "print(s)"
   ]
  },
  {
   "cell_type": "markdown",
   "metadata": {},
   "source": [
    "If you only want two significant figures, or you want the whole number of span 15 spaces (to make nicely lined-up colums for a table), you need to use a format string. A format string is just like a regular string, but has special place-holders for your numbers. These start with a percent ('%'), followed by an optional width, an optional precision after a period, and the type (`f` for float, `d` for integer, `s` for string). For example, a float with two decimals:"
   ]
  },
  {
   "cell_type": "code",
   "execution_count": 15,
   "metadata": {
    "collapsed": false
   },
   "outputs": [
    {
     "name": "stdout",
     "output_type": "stream",
     "text": [
      "This is a float with two decimals:  %.2f\n"
     ]
    }
   ],
   "source": [
    "fmt = \"This is a float with two decimals:  %.2f\"\n",
    "print (fmt)"
   ]
  },
  {
   "cell_type": "markdown",
   "metadata": {},
   "source": [
    "By itself, the format string didn't do much. In order to inject the number, we use another `%`, but as an operator:"
   ]
  },
  {
   "cell_type": "code",
   "execution_count": 16,
   "metadata": {
    "collapsed": false
   },
   "outputs": [
    {
     "name": "stdout",
     "output_type": "stream",
     "text": [
      "This is a float with two decimals:  3.14\n"
     ]
    }
   ],
   "source": [
    "# two decimal places\n",
    "print(fmt % x)"
   ]
  },
  {
   "cell_type": "markdown",
   "metadata": {},
   "source": [
    "You may want to make a format string with more than one number or string. You can do this by grouping the arguments into a list with round brackets (called a *tuple*):"
   ]
  },
  {
   "cell_type": "code",
   "execution_count": 17,
   "metadata": {
    "collapsed": false
   },
   "outputs": [
    {
     "name": "stdout",
     "output_type": "stream",
     "text": [
      "Here is a float: '3.14', and another '  3.1416', an integer 1000, and a string look ma, no quotes!\n"
     ]
    }
   ],
   "source": [
    "fmt = \"Here is a float: '%.2f', and another '%8.4f', an integer %d, and a string %s\"\n",
    "print (fmt % (x, np.pi, 1000, 'look ma, no quotes!'))"
   ]
  },
  {
   "cell_type": "markdown",
   "metadata": {},
   "source": [
    "We will not cover the *new* string formatting now available in `python 2.7` and `python 3.x`. It has some advantages over the old style, but both are fully supported by both versions, so we've stuck with the old as it is by far more common. The reference above describes both methods. You can mix and match as you see fit."
   ]
  },
  {
   "cell_type": "markdown",
   "metadata": {},
   "source": [
    "# Lists and numpy arrays\n",
    "Lists contain a sequence of objects, typically, a sequence of numbers.  The are enclosed by square brackets, (e.g., ``[]``), and each item separated by a comma. Here are some examples."
   ]
  },
  {
   "cell_type": "code",
   "execution_count": 18,
   "metadata": {
    "collapsed": false
   },
   "outputs": [
    {
     "name": "stdout",
     "output_type": "stream",
     "text": [
      "[1.0, 2.0, 7.0, 2500.0]\n",
      "['a', 'b', 'c', 'x', 'y', 'z']\n",
      "[1.0, 'a', 6, 'z']\n"
     ]
    }
   ],
   "source": [
    "# A list of floats\n",
    "x1=[1.,2.,7.,2500.]\n",
    "print(x1)\n",
    "\n",
    "# A list of strings\n",
    "x2=['a','b','c','x','y','z']\n",
    "print(x2)\n",
    "\n",
    "# Lists can also contain a mix of object types\n",
    "x3=[1.,'a',6,'z']\n",
    "print(x3)"
   ]
  },
  {
   "cell_type": "markdown",
   "metadata": {},
   "source": [
    "Numpy arrays allow for more functionality than lists.  While they may also contain a mix of object types, you will primarily be working with numpy arrays that are comprised of numbers: either integers or floats.  For example, you will at some point read in a table of data into a numpy array and do things to it, like add, multiply, etc.\n",
    "\n",
    "Above, we imported the `numpy` module as `np`.  We will use the latter to create arrays."
   ]
  },
  {
   "cell_type": "code",
   "execution_count": 19,
   "metadata": {
    "collapsed": false
   },
   "outputs": [
    {
     "name": "stdout",
     "output_type": "stream",
     "text": [
      "[ 1.  2.  3.  4.]\n"
     ]
    }
   ],
   "source": [
    "x=np.array([1.,2.,3.,4.])\n",
    "print(x)"
   ]
  },
  {
   "cell_type": "code",
   "execution_count": 20,
   "metadata": {
    "collapsed": false
   },
   "outputs": [
    {
     "name": "stdout",
     "output_type": "stream",
     "text": [
      "[ 3.  4.  5.  6.]\n",
      "[  1.   4.   9.  16.]\n"
     ]
    }
   ],
   "source": [
    "# We can add one number to every element:\n",
    "y1=x+2\n",
    "print(y1)\n",
    "\n",
    "# Or raise every element to some power:\n",
    "y2=x**2\n",
    "print(y2)"
   ]
  },
  {
   "cell_type": "markdown",
   "metadata": {},
   "source": [
    "Here is where the real power of numpy arrays comes into play.  We can use `np` to carry out all kinds of mathematical tasks that in other programming languages (like ``C``, ``FORTRAN``, etc) would require some kind of loop. Here are some of the most common tasks we'll use.\n",
    "\n",
    "### Array creation\n",
    "\n",
    "There are many functions in ``numpy`` that allow you to make arrays from scratch."
   ]
  },
  {
   "cell_type": "markdown",
   "metadata": {},
   "source": [
    "We can create an array of zeros:"
   ]
  },
  {
   "cell_type": "code",
   "execution_count": 21,
   "metadata": {
    "collapsed": false
   },
   "outputs": [
    {
     "name": "stdout",
     "output_type": "stream",
     "text": [
      "[ 0.  0.  0.  0.  0.]\n"
     ]
    }
   ],
   "source": [
    "x1=np.zeros(5)\n",
    "print(x1)"
   ]
  },
  {
   "cell_type": "markdown",
   "metadata": {},
   "source": [
    "Or an array of ones:"
   ]
  },
  {
   "cell_type": "code",
   "execution_count": 22,
   "metadata": {
    "collapsed": false
   },
   "outputs": [
    {
     "name": "stdout",
     "output_type": "stream",
     "text": [
      "[ 1.  1.  1.  1.  1.]\n"
     ]
    }
   ],
   "source": [
    "x2=np.ones(5)\n",
    "print(x2)"
   ]
  },
  {
   "cell_type": "markdown",
   "metadata": {},
   "source": [
    "Or an array of pi's:"
   ]
  },
  {
   "cell_type": "code",
   "execution_count": 23,
   "metadata": {
    "collapsed": false
   },
   "outputs": [
    {
     "name": "stdout",
     "output_type": "stream",
     "text": [
      "[ 3.14159265  3.14159265  3.14159265  3.14159265  3.14159265]\n"
     ]
    }
   ],
   "source": [
    "x3=np.ones(5)*np.pi\n",
    "print(x3)"
   ]
  },
  {
   "cell_type": "markdown",
   "metadata": {},
   "source": [
    "We can create a sequence of numbers using np.arange:"
   ]
  },
  {
   "cell_type": "code",
   "execution_count": 24,
   "metadata": {
    "collapsed": false
   },
   "outputs": [
    {
     "name": "stdout",
     "output_type": "stream",
     "text": [
      "[ 0.  1.  2.  3.  4.]\n"
     ]
    }
   ],
   "source": [
    "x1=np.arange(5.)\n",
    "print(x1)"
   ]
  },
  {
   "cell_type": "markdown",
   "metadata": {},
   "source": [
    "Or spaced by a specified amount between two numbers:"
   ]
  },
  {
   "cell_type": "code",
   "execution_count": 25,
   "metadata": {
    "collapsed": false
   },
   "outputs": [
    {
     "name": "stdout",
     "output_type": "stream",
     "text": [
      "[ 0.  2.  4.  6.  8.]\n"
     ]
    }
   ],
   "source": [
    "x2=np.arange(0,10.,2)\n",
    "print(x2)"
   ]
  },
  {
   "cell_type": "markdown",
   "metadata": {},
   "source": [
    "Or _N_ elements equally spaced between two specified numbers:"
   ]
  },
  {
   "cell_type": "code",
   "execution_count": 26,
   "metadata": {
    "collapsed": false
   },
   "outputs": [
    {
     "name": "stdout",
     "output_type": "stream",
     "text": [
      "[ 0.  2.  4.  6.  8.]\n"
     ]
    }
   ],
   "source": [
    "x3=np.linspace(0,8.,5)\n",
    "print(x3)"
   ]
  },
  {
   "cell_type": "markdown",
   "metadata": {},
   "source": [
    "One can also create N-dimensional numpy arrays.  For example, images that you read into Python will typically be stored into 2D numpy arrays."
   ]
  },
  {
   "cell_type": "code",
   "execution_count": 27,
   "metadata": {
    "collapsed": false
   },
   "outputs": [
    {
     "name": "stdout",
     "output_type": "stream",
     "text": [
      "[[ 1.  1.]\n",
      " [ 1.  1.]\n",
      " [ 1.  1.]\n",
      " [ 1.  1.]]\n",
      "(4, 2)\n"
     ]
    }
   ],
   "source": [
    "x=np.ones((4,2))\n",
    "print(x)\n",
    "print(x.shape)"
   ]
  },
  {
   "cell_type": "markdown",
   "metadata": {},
   "source": [
    "### Array Math\n",
    "\n",
    "Just as with spreadsheets, you can do math on entire arrays using operators (``+``,``-``,``*``, and ``/``) and ``numpy`` functions.\n",
    "\n",
    "We can add, multiply, etc., numpy arrays:"
   ]
  },
  {
   "cell_type": "code",
   "execution_count": 28,
   "metadata": {
    "collapsed": false
   },
   "outputs": [
    {
     "name": "stdout",
     "output_type": "stream",
     "text": [
      "[  0.5   3.5  10.5  21.5  36.5]\n"
     ]
    }
   ],
   "source": [
    "x4=0.5+x1+x2*x3/2.\n",
    "print(x4)"
   ]
  },
  {
   "cell_type": "markdown",
   "metadata": {},
   "source": [
    "We also have access to most mathematical functions you'll need:"
   ]
  },
  {
   "cell_type": "code",
   "execution_count": 29,
   "metadata": {
    "collapsed": false
   },
   "outputs": [
    {
     "name": "stdout",
     "output_type": "stream",
     "text": [
      "[  2.50000000e-01   1.22500000e+01   1.10250000e+02   4.62250000e+02\n",
      "   1.33225000e+03]\n",
      "[-0.60205999  1.08813609  2.0423786   2.66487692  3.12458573]\n"
     ]
    }
   ],
   "source": [
    "x5 = np.power(x4,2)\n",
    "print(x5)\n",
    "x6 = np.log10(x5)\n",
    "print (x6)"
   ]
  },
  {
   "cell_type": "markdown",
   "metadata": {},
   "source": [
    "### Matrix Math\n",
    "\n",
    "``numpy`` can treat 2D arrays as matrices and leverage special compiled libraries so that you can do linear algebra routines easily (and very fast). Here, we construct a rotation matrix and use ``dot`` do do the dot-product. Try changing theta to different angles (in radians!)."
   ]
  },
  {
   "cell_type": "code",
   "execution_count": 30,
   "metadata": {
    "collapsed": false
   },
   "outputs": [
    {
     "name": "stdout",
     "output_type": "stream",
     "text": [
      "[[ 0.70710678 -0.70710678]\n",
      " [ 0.70710678  0.70710678]]\n",
      "[ 1.  1.]\n",
      "[  1.11022302e-16   1.41421356e+00]\n"
     ]
    }
   ],
   "source": [
    "# CCW rotation by 180 degrees\n",
    "theta=np.pi/4\n",
    "# Rotation matrix\n",
    "x=np.array([[np.cos(theta),-np.sin(theta)],\n",
    "            [np.sin(theta),np.cos(theta)]])\n",
    "print(x)\n",
    "\n",
    "# Lets rotate (1,1) about the origin\n",
    "y=np.array([1.,1.])\n",
    "z=np.dot(x,y)\n",
    "\n",
    "print(y)\n",
    "print(z)"
   ]
  },
  {
   "cell_type": "markdown",
   "metadata": {},
   "source": [
    "The other common tasks matrix tasks can also be done with either ``numpy`` functions, ``numpy.linalg``, or member functions of the object itself"
   ]
  },
  {
   "cell_type": "code",
   "execution_count": 31,
   "metadata": {
    "collapsed": false
   },
   "outputs": [
    {
     "name": "stdout",
     "output_type": "stream",
     "text": [
      "[[ 0.70710678  0.70710678]\n",
      " [-0.70710678  0.70710678]]\n",
      "[[  1.00000000e+00  -1.11022302e-16]\n",
      " [  0.00000000e+00   1.00000000e+00]]\n"
     ]
    }
   ],
   "source": [
    "# Taking the transpose\n",
    "x_t = x.T\n",
    "print(x_t)\n",
    "\n",
    "# Computing the inverse\n",
    "x_i = np.linalg.inv(x)\n",
    "\n",
    "# Matrix Multiplication\n",
    "I = np.dot(x_i,x)\n",
    "print (I)"
   ]
  },
  {
   "cell_type": "markdown",
   "metadata": {},
   "source": [
    "### Array Slicing\n",
    "\n",
    "Often, you need to access elements or sub-arrays within your array. This is referred to as *slicing*. We can select individual elements in an array using indices (note that 0 is the first element and negative indices count backwards from the end):"
   ]
  },
  {
   "cell_type": "code",
   "execution_count": 32,
   "metadata": {
    "collapsed": false
   },
   "outputs": [
    {
     "name": "stdout",
     "output_type": "stream",
     "text": [
      "[0 1 2 3 4]\n",
      "0\n",
      "4\n",
      "[2 3 4]\n",
      "[0 1 2 3]\n",
      "[4]\n",
      "[4 3 2 1 0]\n"
     ]
    }
   ],
   "source": [
    "x=np.arange(5)\n",
    "print(x)\n",
    "print(x[0])\n",
    "print(x[4])\n",
    "print(x[2:])   # 3rd element onward\n",
    "print(x[:-1])  # all elements up until the last one\n",
    "print(x[-1:])  # last element\n",
    "print(x[::-1]) # reverse array"
   ]
  },
  {
   "cell_type": "markdown",
   "metadata": {},
   "source": [
    "We can also \"slice\" N-dimensional arrays:"
   ]
  },
  {
   "cell_type": "code",
   "execution_count": 33,
   "metadata": {
    "collapsed": false
   },
   "outputs": [
    {
     "name": "stdout",
     "output_type": "stream",
     "text": [
      "[0 1 2 3 4 5 6 7]\n",
      "[[0 1]\n",
      " [2 3]\n",
      " [4 5]\n",
      " [6 7]]\n",
      "[0 1]\n",
      "[0 2 4 6]\n"
     ]
    }
   ],
   "source": [
    "x=np.arange(8)\n",
    "print(x)\n",
    "x=x.reshape((4,2))\n",
    "print(x)\n",
    "\n",
    "print(x[0,:])\n",
    "print(x[:,0])"
   ]
  },
  {
   "cell_type": "markdown",
   "metadata": {},
   "source": [
    "# Control blocks"
   ]
  },
  {
   "cell_type": "markdown",
   "metadata": {},
   "source": [
    "So far, we've been running individual sets of commands and looking at their results immediately. Later, we will write a complete *program*, which is really just bundling up instructions into a recipe for solving a given task. But as the tasks we want to perform become more complicated, we need *control blocks*. These allow us to:\n",
    "\n",
    "* Repeat tasks again and again (loops)\n",
    "* Perform tasks only if certain conditions are met (if-else blocks)\n",
    "* Group instructions into a single logical task (user-defined functions)\n",
    "\n",
    "`python` is rather unique in that it uses indenting to indicate the beginning and end of a logical block. This actually forces you to write readable code, which is a really good thing!\n",
    "\n",
    "### For loops\n",
    "\n",
    "`for` loops are useful for repeating a series of operations a given number of times. In `python`, you loop over elements of an list or array. So if you want to loop over a sequence of integers (say, they indices of an array), then you would use the `range()` function to generate the list of integers. You might also use the `len()` function if you need the length of the array."
   ]
  },
  {
   "cell_type": "code",
   "execution_count": 34,
   "metadata": {
    "collapsed": false
   },
   "outputs": [
    {
     "name": "stdout",
     "output_type": "stream",
     "text": [
      "[0, 1, 2, 3, 4]\n",
      "0\n",
      "1\n",
      "2\n",
      "3\n",
      "4\n"
     ]
    }
   ],
   "source": [
    "# range(n) creates a list of n elements\n",
    "print(range(5))\n",
    "\n",
    "# We can use it to iterate over a for loop\n",
    "for ii in range(5):\n",
    "    print(ii)"
   ]
  },
  {
   "cell_type": "markdown",
   "metadata": {},
   "source": [
    "### Notice that after the line containing the for statement, the subsequent lines are indented to indicate that they are all part of the same block"
   ]
  },
  {
   "cell_type": "markdown",
   "metadata": {},
   "source": [
    "You can use a `for` loop to build up a list of elements by appending to an existing list (using its `append()` member function. For example, to create the first N elements of the Fibonacci sequence:"
   ]
  },
  {
   "cell_type": "code",
   "execution_count": 35,
   "metadata": {
    "collapsed": false
   },
   "outputs": [
    {
     "name": "stdout",
     "output_type": "stream",
     "text": [
      "[1, 1, 2, 3, 5, 8, 13, 21, 34, 55, 89, 144, 233, 377, 610, 987, 1597, 2584, 4181, 6765, 10946, 17711, 28657, 46368, 75025, 121393, 196418, 317811, 514229, 832040, 1346269, 2178309, 3524578, 5702887, 9227465, 14930352, 24157817, 39088169, 63245986, 102334155, 165580141, 267914296, 433494437, 701408733, 1134903170, 1836311903, 2971215073, 4807526976, 7778742049, 12586269025, 20365011074, 32951280099, 53316291173, 86267571272, 139583862445, 225851433717, 365435296162, 591286729879, 956722026041, 1548008755920, 2504730781961, 4052739537881, 6557470319842, 10610209857723, 17167680177565, 27777890035288, 44945570212853, 72723460248141, 117669030460994, 190392490709135, 308061521170129, 498454011879264, 806515533049393, 1304969544928657, 2111485077978050, 3416454622906707, 5527939700884757, 8944394323791464, 14472334024676221, 23416728348467685, 37889062373143906, 61305790721611591, 99194853094755497, 160500643816367088, 259695496911122585, 420196140727489673, 679891637638612258, 1100087778366101931, 1779979416004714189, 2880067194370816120, 4660046610375530309, 7540113804746346429, 12200160415121876738L, 19740274219868223167L, 31940434634990099905L, 51680708854858323072L, 83621143489848422977L, 135301852344706746049L, 218922995834555169026L, 354224848179261915075L]\n"
     ]
    }
   ],
   "source": [
    "fib = [1,1]\n",
    "N = 100\n",
    "for i in range(N-2):\n",
    "    fib.append(fib[-2]+fib[-1])\n",
    "print (fib)"
   ]
  },
  {
   "cell_type": "markdown",
   "metadata": {},
   "source": [
    "You may notice (if N is large enough) that you get numbers that have an `L` at the end. `python` has a special type called a *long integer* which allows for abitrarily large numbers.\n",
    "\n",
    "Here is an example of what **not** to do with for loops (if you can help it). `For` loops are more computationally expensive in python than using the `numpy` functions do do the math. *Always* try to cast the problem in terms of `numpy` math and functions. It will make your code faster. Try making N in the following example larger and larger and you'll see the difference."
   ]
  },
  {
   "cell_type": "code",
   "execution_count": 36,
   "metadata": {
    "collapsed": false
   },
   "outputs": [
    {
     "name": "stdout",
     "output_type": "stream",
     "text": [
      "for loop took 0.00034499168396 seconds\n",
      "numpy square took 0.000172853469849 seconds\n"
     ]
    }
   ],
   "source": [
    "# A slightly more complex example of a for loop:\n",
    "import time\n",
    "N = 100\n",
    "x=np.arange(N)\n",
    "y=np.zeros(N)\n",
    "\n",
    "t1 = time.time()   # start time\n",
    "for ii in range(x.size):\n",
    "    y[ii]=x[ii]**2\n",
    "t2 = time.time()   # end time\n",
    "    \n",
    "print (\"for loop took \"+str(t2-t1)+\" seconds\")\n",
    "\n",
    "# Note that the above could have been acheived more easily with straight array operations:\n",
    "t1 = time.time()\n",
    "y2=x**2\n",
    "t2 = time.time()\n",
    "print (\"numpy square took \"+str(t2-t1)+\" seconds\")"
   ]
  },
  {
   "cell_type": "markdown",
   "metadata": {},
   "source": [
    "### If blocks\n",
    "\n",
    "`if` statements act as a way to carry out a task only if a certain _condition_ is met. As with the `for` loops above, everything that is indented after the `if` statement is part of the block of code that is executed if the condition is met. Likewise for the `else` block."
   ]
  },
  {
   "cell_type": "code",
   "execution_count": 37,
   "metadata": {
    "collapsed": false
   },
   "outputs": [
    {
     "name": "stdout",
     "output_type": "stream",
     "text": [
      "Yes! x is 5\n"
     ]
    }
   ],
   "source": [
    "x=5\n",
    "if x==5:\n",
    "    print('Yes! x is 5')\n",
    "    \n",
    "# The two equal signs evaluate whether x is equal to 5.  One can also use >, >=, <, <=, != (not equal to)"
   ]
  },
  {
   "cell_type": "code",
   "execution_count": 38,
   "metadata": {
    "collapsed": true
   },
   "outputs": [],
   "source": [
    "x=5\n",
    "if x==3:\n",
    "    print('Yes! x is 3')"
   ]
  },
  {
   "cell_type": "markdown",
   "metadata": {},
   "source": [
    "`if-else` statements execute the code in the `if` block if the condition is `true`, otherwise it executes the code in the `else` block:"
   ]
  },
  {
   "cell_type": "code",
   "execution_count": 39,
   "metadata": {
    "collapsed": false
   },
   "outputs": [
    {
     "name": "stdout",
     "output_type": "stream",
     "text": [
      "x is not 3\n",
      "x is 5\n"
     ]
    }
   ],
   "source": [
    "x=5\n",
    "if x==3:\n",
    "    print('Yes! x is 3')\n",
    "else:\n",
    "    print('x is not 3')\n",
    "    print('x is '+str(x))"
   ]
  },
  {
   "cell_type": "markdown",
   "metadata": {},
   "source": [
    "One can also have a series of conditions in the form of an `elif` block:"
   ]
  },
  {
   "cell_type": "code",
   "execution_count": 40,
   "metadata": {
    "collapsed": false
   },
   "outputs": [
    {
     "name": "stdout",
     "output_type": "stream",
     "text": [
      "x is 5\n"
     ]
    }
   ],
   "source": [
    "x=5\n",
    "\n",
    "if x==2:\n",
    "    print('Yes! x is 2')\n",
    "elif x==3:\n",
    "    print('Yes! x is 3')\n",
    "elif x==4:\n",
    "    print('Yes! x is 4')\n",
    "else:\n",
    "    print('x is '+str(x))"
   ]
  },
  {
   "cell_type": "markdown",
   "metadata": {},
   "source": [
    "You can also have multiple conditions that are evaluated:"
   ]
  },
  {
   "cell_type": "code",
   "execution_count": 41,
   "metadata": {
    "collapsed": false
   },
   "outputs": [
    {
     "name": "stdout",
     "output_type": "stream",
     "text": [
      "x is 5\n",
      "x is 5\n"
     ]
    }
   ],
   "source": [
    "x=5\n",
    "\n",
    "# '&' below stands for AND: both conditions have to be met to execute the if block\n",
    "if (x>2) & (x*2==10):\n",
    "    print('x is 5')\n",
    "    \n",
    "    \n",
    "# '|' below stands for OR: either condition can be met to execute the if block\n",
    "if (x>7) | (x*2==10):\n",
    "    print('x is 5')\n"
   ]
  },
  {
   "cell_type": "markdown",
   "metadata": {},
   "source": [
    "### Functions\n",
    "\n",
    "Functions allow you to make a bundle of python statements that are executed whenever the function is called. Each function has arguments you pass in and value(s) that are returned. For example, you've been using the `print` function.  There are also some functions above that you have been using. Now we will make our own."
   ]
  },
  {
   "cell_type": "code",
   "execution_count": 42,
   "metadata": {
    "collapsed": false
   },
   "outputs": [
    {
     "name": "stdout",
     "output_type": "stream",
     "text": [
      "5.0\n"
     ]
    }
   ],
   "source": [
    "# the function 'myfunc' takes two numbers, x and y, adds them together and returns the results\n",
    "def myfunc(x,y):\n",
    "    z=x+y\n",
    "    return z\n",
    "\n",
    "# to call the function, we simply invoke the name and feed it the requisite inputs:\n",
    "g=myfunc(2,3.)\n",
    "print(g)"
   ]
  },
  {
   "cell_type": "code",
   "execution_count": 43,
   "metadata": {
    "collapsed": false
   },
   "outputs": [
    {
     "name": "stdout",
     "output_type": "stream",
     "text": [
      "7.0\n",
      "6.0\n"
     ]
    }
   ],
   "source": [
    "# you can set input parameters to have a default values\n",
    "def myfunc2(x,y=5.):\n",
    "    z=x+y\n",
    "    return z\n",
    "\n",
    "g=myfunc2(2.)\n",
    "print(g)\n",
    "\n",
    "g=myfunc2(2.,4.)\n",
    "print(g)"
   ]
  },
  {
   "cell_type": "markdown",
   "metadata": {},
   "source": [
    "Let's put the `if`, `for` and `def` together into one example. Here we will make a Fibonacci list generator. It takes a single argument: the length of the list to make."
   ]
  },
  {
   "cell_type": "code",
   "execution_count": 44,
   "metadata": {
    "collapsed": true
   },
   "outputs": [],
   "source": [
    "def Fibonacci(N):\n",
    "    # check the input value\n",
    "    if N < 2:\n",
    "        print(\"Sorry, N must be at least 2\")\n",
    "        return None\n",
    "    elif N > 1000:\n",
    "        print (\"Are you nuts?! That will take too long!\")\n",
    "        return None\n",
    "    fib = [1,1]\n",
    "    for i in range(N-2):\n",
    "        fib.append(fib[-1]+fib[-2])\n",
    "    return fib"
   ]
  },
  {
   "cell_type": "markdown",
   "metadata": {},
   "source": [
    "Note that in cases where the function fails, we return a special python object called `None`. It's a good thing to use when you want to indicate that somethign didn't go right. Now go ahead and try running the Fibonacci function with different input values."
   ]
  },
  {
   "cell_type": "code",
   "execution_count": 45,
   "metadata": {
    "collapsed": false
   },
   "outputs": [
    {
     "name": "stdout",
     "output_type": "stream",
     "text": [
      "Are you nuts?! That will take too long!\n"
     ]
    }
   ],
   "source": [
    "Fibonacci(1001)"
   ]
  },
  {
   "cell_type": "markdown",
   "metadata": {},
   "source": [
    "# Importing Python packages: examples\n",
    "\n",
    "One of the major advantages of `python` is a wealth of specialized packages for doing common scientific tasks. Sure, you could write your own least-squares fitter using what we've shown you so far, but before you attempt anything like that, take a little time to \"google that\" and see if a solution exists already.\n",
    "\n",
    "You will have to `import` Python modules/packages to carry out many of the tasks you will need for your research.  As already discussed, `numpy` is probably the most useful.  `scipy` and `astropy` are other popular packages.  Lets play around with a few of these to give you an idea of how useful they can be.\n",
    "\n",
    "### Random Numbers"
   ]
  },
  {
   "cell_type": "code",
   "execution_count": 46,
   "metadata": {
    "collapsed": true
   },
   "outputs": [],
   "source": [
    "# I like to declare all of my imported packages at the top of my script so that I know what is available.\n",
    "# Also note that there are many ways to import packages.\n",
    "\n",
    "import numpy.random as npr\n",
    "from scipy import stats\n",
    "import scipy.interpolate as si\n",
    "from astropy.cosmology import FlatLambdaCDM"
   ]
  },
  {
   "cell_type": "code",
   "execution_count": 47,
   "metadata": {
    "collapsed": false,
    "scrolled": true
   },
   "outputs": [
    {
     "name": "stdout",
     "output_type": "stream",
     "text": [
      "[ 0.2849514   0.97350557  0.80103953  0.04343999  0.5302335 ]\n",
      "[ 1.91282346  0.94586231  2.09380137  0.2999738   0.63605061]\n",
      "[1 3 2 4 3 0 2 3 0 0]\n"
     ]
    }
   ],
   "source": [
    "# Random numbers are useful for many tasks.\n",
    "\n",
    "# draw random numbers from a uniform distribution:\n",
    "x1=npr.rand(5)\n",
    "print(x1)\n",
    "\n",
    "# draw random numbers from a normal distribution:\n",
    "x2=npr.randn(5)\n",
    "print(x2)\n",
    "\n",
    "# draw 10 random integers between 0 and 5(exclusive)\n",
    "x3=npr.randint(0,5,10)\n",
    "print(x3)"
   ]
  },
  {
   "cell_type": "markdown",
   "metadata": {},
   "source": [
    "Here is a practical example of using random numbers. Often in statistics, we have to compute the mean of some population based on a limited sample. For example, a survey may ask car drivers their age and make/model of car. A marketing team may want to know the average age of drivers of Ford Mustangs so they can target their audience. Calculating a mean is easy, but what about the uncertainty in that mean? You could compute the population standard deviation, but that pre-supposes the underlying distribution is Gaussian. Another method, that does not make any assumptions about the distribution is *bootstrapping*. Randomly remove values from the data and replace them with copies of other values. Compute a new mean. Do that N times and compute the standard deviation of these *bootstrapped* mean values.\n",
    "\n",
    "Below is an example of bootstrapping a sample to determine the uncertainty on a measurement.  In this case, we will compute the mean of a sample of ages, and the uncertainty on the mean."
   ]
  },
  {
   "cell_type": "code",
   "execution_count": 48,
   "metadata": {
    "collapsed": false
   },
   "outputs": [
    {
     "name": "stdout",
     "output_type": "stream",
     "text": [
      "22.5555555556\n",
      "1.55851518919\n"
     ]
    }
   ],
   "source": [
    "# x below represents a measurement of the ages of N people, where N=x.size\n",
    "x=np.array([19.,20.,22.,19.,21.,24.,35.,22.,21.])\n",
    "# This is the mean age:\n",
    "print(np.mean(x))\n",
    "\n",
    "# Now we \"bootstrap\" to determine the error on this measurement:\n",
    "ntrials=10000 # number of times we will draw a random sample of N ages\n",
    "x_arr=np.zeros(ntrials) # store the mean of each random sample in this array\n",
    "\n",
    "for ii in range(ntrials):\n",
    "    # draw N random integers, where N equals the number of samples in x\n",
    "    ix=npr.randint(0,x.size,x.size)\n",
    "    # subscript the original array with these random indices to get a new sample and compute the mean\n",
    "    x_arr[ii]=np.mean(x[ix])\n",
    "\n",
    "# Finally, compute the standard deviation of the array of mean values to get the uncertainty on the *mean* age\n",
    "print(np.std(x_arr))\n"
   ]
  },
  {
   "cell_type": "markdown",
   "metadata": {},
   "source": [
    "### Binning Data\n",
    "\n",
    "Another common statistical task is *binning* data. This is often done on noisy spectra to make \"real\" features more visible. In the following example, we are going to bin galaxies based on their redshift and compute the mean stellar mass for each bin."
   ]
  },
  {
   "cell_type": "code",
   "execution_count": 49,
   "metadata": {
    "collapsed": false
   },
   "outputs": [
    {
     "name": "stdout",
     "output_type": "stream",
     "text": [
      "[0.0, 1.0, 2.0, 3.0]\n",
      "[ 10.50286052  10.48268692  10.49378662]\n"
     ]
    }
   ],
   "source": [
    "# This is an example of binning data and computing a particular value for the data in each bin.\n",
    "# The scipy package is used to carry out this task.\n",
    "\n",
    "# Lets make some fake data of galaxies spanning random redshifts between 0<z<3:\n",
    "z=npr.rand(10000)*3.\n",
    "# And these galaxies have random stellar masses between 9<log(M/Msun)<12:\n",
    "m=npr.rand(10000)*3.+9.\n",
    "\n",
    "# Now we want to compute the median stellar mass for galaxies at 0<z<1, 1<z<2, and 2<z<3:\n",
    "# So lets declalre the bin edges\n",
    "bins=[0.,1.,2.,3.]\n",
    "\n",
    "m_med,xbins,btemp = stats.binned_statistic(z,m,statistic='median',bins=bins)\n",
    "print(bins)\n",
    "print(m_med)"
   ]
  },
  {
   "cell_type": "markdown",
   "metadata": {},
   "source": [
    "### Interpolation\n",
    "\n",
    "In science, we measure *discrete* values of data. Sometimes you need to interpolate between two (or more) points. A common example is drawing a smooth line through the data when making a graph. You could do this by hand using `numpy`, but the module `scipy` has an entire interpolation package that offers an easy solution."
   ]
  },
  {
   "cell_type": "code",
   "execution_count": 50,
   "metadata": {
    "collapsed": false
   },
   "outputs": [
    {
     "name": "stdout",
     "output_type": "stream",
     "text": [
      "[ 0.  1.  2.  3.  4.]\n",
      "[  0.   1.   4.   9.  16.]\n",
      "[  0.   1.   4.   9.  16.]\n",
      "0.5\n",
      "[  5.77315973e-15   1.00000000e+00   4.00000000e+00   9.00000000e+00\n",
      "   1.60000000e+01]\n",
      "0.25\n"
     ]
    }
   ],
   "source": [
    "# Interpolating between data points is another common task.  We'll again use scipy to do some interpolating:\n",
    "\n",
    "x=np.arange(5.)\n",
    "y=x**2\n",
    "\n",
    "print(x)\n",
    "print(y)\n",
    "\n",
    "# Linear interpolation\n",
    "f=si.interp1d(x,y,kind='linear')\n",
    "# si.interp1d returns a function, f, which can be used to feed values to.\n",
    "# For example, lets evaluate f(x)\n",
    "print(f(x))\n",
    "# And now a different value\n",
    "print(f(0.5))\n",
    "\n",
    "# We can employ a higher order interpolation scheme to get more precise results (assuming a smoothly varying function)\n",
    "f=si.interp1d(x,y,kind='quadratic')\n",
    "print(f(x))\n",
    "print(f(0.5))"
   ]
  },
  {
   "cell_type": "markdown",
   "metadata": {},
   "source": [
    "### Astronomy-specific Example\n",
    "\n",
    "Now we get into a really specific case. `Astropy` is a collection of several packages that are very useful for astronomers. It is actively developed and has new stuff all the time. Here, we show how you can use the cosmology calculator to compute the age of the Universe given a redshift."
   ]
  },
  {
   "cell_type": "code",
   "execution_count": 51,
   "metadata": {
    "collapsed": false,
    "scrolled": true
   },
   "outputs": [
    {
     "name": "stdout",
     "output_type": "stream",
     "text": [
      "13.461701658 Gyr\n",
      "[ 13.46170166   5.74698053   3.22268191   2.10909278] Gyr\n"
     ]
    }
   ],
   "source": [
    "# The astropy package has all kinds of astronomy related routines.\n",
    "# Here, we define a cosmology that allows to compute things like \n",
    "# the age of the universe or Hubble constant at different redshifts\n",
    "\n",
    "cosmo = FlatLambdaCDM(H0=70., Om0=0.3)\n",
    "redshift=0.\n",
    "print(cosmo.age(redshift))\n",
    "\n",
    "redshift=[0,1,2,3]\n",
    "print(cosmo.age(redshift))"
   ]
  },
  {
   "cell_type": "markdown",
   "metadata": {},
   "source": [
    "# Running code\n",
    "\n",
    "There are many environments in which one can run Python code:\n",
    "- iPython notebooks like this one are good for running quick snippets of code.\n",
    "- Spyder (provided with Anaconda) provides a space for writing scripts, executing them, and also for easily looking up definitions of different functions.\n",
    "- One can also write code in a text editor, like Emacs/Aquamacs.  Then execute the code in a terminal running Python or iPython.\n",
    "\n",
    "## Running code from the command-line\n",
    "\n",
    "This is the most common and *agnostic* way to run your code. If you send your code to someone else, assume they will run it from the command line. If you are running your code on an HPC cluster, it needs to be run from the command-line. Lastly, writing code that runs with minimal user-interaction makes it more repeatable.\n",
    "\n",
    "There are two aspects of writing command-line code that you should be familiar with: 1) getting arguments from the command line; and 2) working with files. The first is done through the `sys.argv` variable, the second is done with `os.path` package. Here we look at each briefly.\n",
    "\n",
    "### `sys.argv`\n",
    "\n",
    "Quite simply, this is a list of the command-line arguments. You've seen several unix commands. Suppose we wanted to write the equivalent of the `cp` command, but using a python script. Usually, you run the command like this from the command-line:\n",
    "\n",
    "    cp file1 file2\n",
    "\n",
    "That would copy file1 to file2. So our python script will need to get both the source and destination file name. Here is how I would write a simple script to do the same thing as `cp`:\n",
    "\n",
    "    import sys\n",
    "    f1 = sys.argv[1]\n",
    "    f2 = sys.argv[2]\n",
    "    print (\"copying %s to %s\" % (f1,f2))\n",
    "    \n",
    "    # Here would be the code to actually copy one file to the other\n",
    "    \n",
    "Note: you can try to print out sys.argv on the next command-block. It will show you how this ipython notebook was actually run. But it is not very useful for doing anything practical.\n",
    "\n",
    "With more complicated code, your command-line arguments may also get rather complicated (you may have optional arguments, switches, etc). There is a really good module in `python` for dealing with such complicated arguments so that your script isn't filled with code just to deal with parsing `sys.argv`. Have a look at the [argparse](https://docs.python.org/2/library/argparse.html) module."
   ]
  },
  {
   "cell_type": "code",
   "execution_count": 52,
   "metadata": {
    "collapsed": false
   },
   "outputs": [
    {
     "name": "stdout",
     "output_type": "stream",
     "text": [
      "['/Users/cburns/anaconda2/lib/python2.7/site-packages/ipykernel/__main__.py', '-f', '/Users/cburns/Library/Jupyter/runtime/kernel-c195cb32-fd49-4849-8890-d2c00197ac0d.json']\n"
     ]
    }
   ],
   "source": [
    "print sys.argv"
   ]
  },
  {
   "cell_type": "markdown",
   "metadata": {},
   "source": [
    "## `os.path`\n",
    "\n",
    "Up until now, we have been printing output to the screen. You can still do that with command-line  scripts, but once you close down the terminal, that output is lost. Your code will need to write to output files, but likely will also have to read from files. `os.path` gives you some functions that are useful when dealing with files.\n",
    "\n",
    "You may have to check to see if a file exists, if a folder exists, etc."
   ]
  },
  {
   "cell_type": "code",
   "execution_count": 53,
   "metadata": {
    "collapsed": false
   },
   "outputs": [
    {
     "name": "stdout",
     "output_type": "stream",
     "text": [
      "Oh good, you can list files\n",
      "It is safe to use this\n",
      "you have a tmp folder\n",
      "tmp/some/file\n"
     ]
    }
   ],
   "source": [
    "# Check to see if a file exists\n",
    "if os.path.isfile('/bin/ls'):\n",
    "    print(\"Oh good, you can list files\")\n",
    "\n",
    "if not os.path.isfile('test_output.dat'):\n",
    "    print (\"It is safe to use this\")\n",
    "    \n",
    "# Check if a folder exists\n",
    "if os.path.isdir('/tmp'):\n",
    "    print (\"you have a tmp folder\")\n",
    "    \n",
    "# construct the path to a file using the correct separator\n",
    "of = os.path.join('tmp','some','file')\n",
    "print (of)\n"
   ]
  },
  {
   "cell_type": "markdown",
   "metadata": {},
   "source": [
    "## File access with `open`\n",
    "\n",
    "In order to access the contents of an existing file, or write contents into a new file, you use the `open` function. This will return a file object that you can use to read or write data. Here are some common tasks. First, let's write data to a file:"
   ]
  },
  {
   "cell_type": "code",
   "execution_count": 54,
   "metadata": {
    "collapsed": true
   },
   "outputs": [],
   "source": [
    "# Open a file for writing (note the 'w')\n",
    "f = open('a_test_file', 'w')\n",
    "# write a header, always a good idea!\n",
    "f.write(\"# This is a test data file. It contains 3 columns\\n\")\n",
    "for i in range(10):\n",
    "    f.write(\"%d %d %d\\n\" % (i, 2*i, 3*i))\n",
    "# We need to \"close\" the file to make sure it is written to disk\n",
    "f.close()"
   ]
  },
  {
   "cell_type": "markdown",
   "metadata": {},
   "source": [
    "Now, depending what your current working directory is (see beginning of tutorial), there will be a file called `a_test_file` in that folder. If you like, have a look at it using an editor or file viewer. It will have 10 rows and 3 columns. Note that we needed to have a \"newline\" (`\\n`) at the end of the string we used in the `write()` function, otherwise the output would have been one long line.\n",
    "\n",
    "Now, let's read the file back into python. You can either read the whole thing in at once as a single string, read it in line-by-line or read all lines in at once as a list."
   ]
  },
  {
   "cell_type": "code",
   "execution_count": 57,
   "metadata": {
    "collapsed": false
   },
   "outputs": [
    {
     "name": "stdout",
     "output_type": "stream",
     "text": [
      "['# This is a test data file. It contains 3 columns\\n', '0 0 0\\n', '1 2 3\\n', '2 4 6\\n', '3 6 9\\n', '4 8 12\\n', '5 10 15\\n', '6 12 18\\n', '7 14 21\\n', '8 16 24\\n', '9 18 27\\n']\n"
     ]
    }
   ],
   "source": [
    "# This time we use 'r' to indicate we only want to read the file\n",
    "f = open('a_test_file', 'r')\n",
    "everything = f.read()\n",
    "\n",
    "# This brings us back to the beginning of the file\n",
    "f.seek(0)\n",
    "one_row = f.readline()\n",
    "\n",
    "f.seek(0)\n",
    "list_of_rows = f.readlines()\n",
    "f.close()\n",
    "print(list_of_rows)"
   ]
  },
  {
   "cell_type": "markdown",
   "metadata": {},
   "source": [
    "Use `print()` to have a look at the data we read in. Note that the rows will include the newline character (`\\n`). You can use the `string.strip()` function to get rid of it.\n",
    "\n",
    "In the next tutorial (visualization), we'll show you a better way to read in standard format data files like this. But sometimes you'll be faced with data that these more automatic functions can't handle, so it's good to know how to read it in by hand."
   ]
  },
  {
   "cell_type": "markdown",
   "metadata": {},
   "source": [
    "# Debugging\n",
    "\n",
    "You almost never write a script without introducing bugs (the term comes from when computers were mechanical machines and insects literallly interfered with the running of the code). Luckily, python gives a very nice \"traceback\" report when it encounters a problem with what you've written. let's just generate a mistake on purpose and see what happens."
   ]
  },
  {
   "cell_type": "code",
   "execution_count": 58,
   "metadata": {
    "collapsed": false
   },
   "outputs": [
    {
     "name": "stdout",
     "output_type": "stream",
     "text": [
      "[0 1 2 3 4]\n",
      "[0 1 2]\n"
     ]
    },
    {
     "ename": "ValueError",
     "evalue": "operands could not be broadcast together with shapes (5,) (3,) ",
     "output_type": "error",
     "traceback": [
      "\u001b[0;31m---------------------------------------------------------------------------\u001b[0m",
      "\u001b[0;31mValueError\u001b[0m                                Traceback (most recent call last)",
      "\u001b[0;32m<ipython-input-58-eabf493bdbe6>\u001b[0m in \u001b[0;36m<module>\u001b[0;34m()\u001b[0m\n\u001b[1;32m      3\u001b[0m \u001b[0;32mprint\u001b[0m\u001b[0;34m(\u001b[0m\u001b[0mx1\u001b[0m\u001b[0;34m)\u001b[0m\u001b[0;34m\u001b[0m\u001b[0m\n\u001b[1;32m      4\u001b[0m \u001b[0;32mprint\u001b[0m\u001b[0;34m(\u001b[0m\u001b[0mx2\u001b[0m\u001b[0;34m)\u001b[0m\u001b[0;34m\u001b[0m\u001b[0m\n\u001b[0;32m----> 5\u001b[0;31m \u001b[0;32mprint\u001b[0m\u001b[0;34m(\u001b[0m\u001b[0mx1\u001b[0m\u001b[0;34m+\u001b[0m\u001b[0mx2\u001b[0m\u001b[0;34m)\u001b[0m\u001b[0;34m\u001b[0m\u001b[0m\n\u001b[0m",
      "\u001b[0;31mValueError\u001b[0m: operands could not be broadcast together with shapes (5,) (3,) "
     ]
    }
   ],
   "source": [
    "x1=np.arange(5)\n",
    "x2=np.arange(3)\n",
    "print(x1)\n",
    "print(x2)\n",
    "print(x1+x2)"
   ]
  },
  {
   "cell_type": "markdown",
   "metadata": {},
   "source": [
    "This traceback is pretty short, but it shows exactly where the problem occurs (indicated with `---->`). And the explanation is pretty clear (when you're used to `numpy` arrays). You can't add two arrays unless they have the same shape.\n",
    "\n",
    "These kinds of compile-time bugs are the easiest to fix. You've written something wrong (syntax error), or you've done some illegal operation (like above) and your code grinds to a halt. You fix the problem and then find another and so on until your code runs.\n",
    "\n",
    "But then you might not get the \"right\" answer. Or your code does something unexpected. Or you get a \"divide by zero\" error and it's not completely obvious where things went wrong. That's when you need to do real debugging. There are several approaches to dealing with this:\n",
    "\n",
    "- Print the values of variables throughout the program by simply injecting \"print statements\" in your code. This is easy to do and works \"anywhere\". Usually, with a few of these you can see the dumb mistake you made (but python didn't catch).\n",
    "- Use a debugger. `Spyder` has several debugging tools. You can set checkpoints (where you want your code to stop) and examine the values of variables. But you need to load your program into `Spyder` and run it from there.\n",
    "- If you want to run your script in the Python interpreter and have it leave all the variables available after a run: \n",
    "    - `>>> exec(open(\"myscript.py\").read(), globals())`"
   ]
  },
  {
   "cell_type": "markdown",
   "metadata": {},
   "source": [
    "# Final exercise\n",
    "### (if time permits)\n",
    "To wrap this all up, we're going to leave the notebook and get you to write a stand-alone script that can be run from the command-line. The script should:\n",
    "- get the name of a file from command-line argument\n",
    "- open the file and read its contents (columns of numbers) \n",
    "- convert columns in the file into `numpy` arrays,\n",
    "- compute and report the mean of each column.\n",
    "Try to use the concepts we've covered in this tutorial (e.g. make a function that reads columns and converts to arrays). Run the script on the file we created earlier (`a_test_file`).\n",
    "\n",
    "# References\n",
    "\n",
    "- Carnegie python links:\n",
    "    - http://obs.carnegiescience.edu/content/python-resources\n",
    "    \n",
    "- Python \"experts\" at Carnegie\n",
    "    - Shannon Patel (#215)\n",
    "    - Chris Burns (#234)\n",
    "    - Eduardo Banados (#205)\n",
    "    \n",
    "- Google. Chances are someone else had the same question you do, asked it, and had it answered on `stackoverflow`."
   ]
  },
  {
   "cell_type": "markdown",
   "metadata": {},
   "source": []
  }
 ],
 "metadata": {
  "kernelspec": {
   "display_name": "Python 2",
   "language": "python",
   "name": "python2"
  },
  "language_info": {
   "codemirror_mode": {
    "name": "ipython",
    "version": 2
   },
   "file_extension": ".py",
   "mimetype": "text/x-python",
   "name": "python",
   "nbconvert_exporter": "python",
   "pygments_lexer": "ipython2",
   "version": "2.7.11"
  }
 },
 "nbformat": 4,
 "nbformat_minor": 0
}
